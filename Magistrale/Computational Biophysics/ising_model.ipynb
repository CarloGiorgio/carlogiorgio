{
  "nbformat": 4,
  "nbformat_minor": 0,
  "metadata": {
    "colab": {
      "name": "ising_model.ipynb",
      "provenance": [],
      "collapsed_sections": [],
      "authorship_tag": "ABX9TyM5dJW1rFf2SNf+mYkEPx43",
      "include_colab_link": true
    },
    "kernelspec": {
      "name": "python3",
      "display_name": "Python 3"
    },
    "accelerator": "GPU"
  },
  "cells": [
    {
      "cell_type": "markdown",
      "metadata": {
        "id": "view-in-github",
        "colab_type": "text"
      },
      "source": [
        "<a href=\"https://colab.research.google.com/github/CarloGiorgio/carlogiorgio/blob/master/Magistrale/Computational%20Biophysics/ising_model.ipynb\" target=\"_parent\"><img src=\"https://colab.research.google.com/assets/colab-badge.svg\" alt=\"Open In Colab\"/></a>"
      ]
    },
    {
      "cell_type": "markdown",
      "metadata": {
        "id": "al1oe6p9VLai"
      },
      "source": [
        "# Ising Model\n",
        "We try to simulate with a Montecarlo method a inhomogeneous Ising Model, with external field and try to solve the Inverse Ising problem"
      ]
    },
    {
      "cell_type": "code",
      "metadata": {
        "id": "O52YpaY5VIgN"
      },
      "source": [
        "import numpy as np\n",
        "import pandas as pd\n",
        "import cupy as cp\n",
        "import matplotlib.pyplot as plt"
      ],
      "execution_count": 1,
      "outputs": []
    },
    {
      "cell_type": "code",
      "metadata": {
        "id": "vkAMsxXYVqGz"
      },
      "source": [
        "L=28 #lattice \n",
        "N=L*L #number of spins\n",
        "T=0.1 #temperature"
      ],
      "execution_count": 40,
      "outputs": []
    },
    {
      "cell_type": "code",
      "metadata": {
        "id": "Cs-zy3W_c8un",
        "outputId": "1d2c12f4-c07e-4813-d08d-7b1a358d652a",
        "colab": {
          "base_uri": "https://localhost:8080/",
          "height": 280
        }
      },
      "source": [
        "conf=cp.random.randint(0,2,(L,L))*2-1\n",
        "plt.imshow(cp.asnumpy(conf),cmap='binary')"
      ],
      "execution_count": 24,
      "outputs": [
        {
          "output_type": "execute_result",
          "data": {
            "text/plain": [
              "<matplotlib.image.AxesImage at 0x7fa69b3d77f0>"
            ]
          },
          "metadata": {
            "tags": []
          },
          "execution_count": 24
        },
        {
          "output_type": "display_data",
          "data": {
            "image/png": "[encoded data removed]",
            "text/plain": [
              "<Figure size 432x288 with 1 Axes>"
            ]
          },
          "metadata": {
            "tags": [],
            "needs_background": "light"
          }
        }
      ]
    },
    {
      "cell_type": "code",
      "metadata": {
        "id": "64K9WYqOc67S",
        "outputId": "92cb5708-612e-4b28-b278-ca4362b477a3",
        "colab": {
          "base_uri": "https://localhost:8080/",
          "height": 32
        }
      },
      "source": [
        "conf=cp.reshape(conf,(N))\n",
        "conf.shape"
      ],
      "execution_count": 25,
      "outputs": [
        {
          "output_type": "execute_result",
          "data": {
            "text/plain": [
              "(784,)"
            ]
          },
          "metadata": {
            "tags": []
          },
          "execution_count": 25
        }
      ]
    },
    {
      "cell_type": "code",
      "metadata": {
        "id": "_l169iB9WBtM",
        "outputId": "84c34493-096f-49d3-a92a-ae72ccd66666",
        "colab": {
          "base_uri": "https://localhost:8080/",
          "height": 32
        }
      },
      "source": [
        "h=cp.ones(N)/N #constant shape\n",
        "J=cp.ones((N,N))\n",
        "x=cp.linspace(0,28,28,)\n",
        "xx,yy=cp.meshgrid(x,x)\n",
        "xx=xx.reshape(-1)\n",
        "yy=yy.reshape(-1)\n",
        "xx,yy=cp.meshgrid(xx,yy)\n",
        "J=1/(2*np.pi)**0.5*cp.exp(-(xx-yy)**2/2)/N/N #gaussian shape\n",
        "J.shape"
      ],
      "execution_count": 5,
      "outputs": [
        {
          "output_type": "execute_result",
          "data": {
            "text/plain": [
              "(784, 784)"
            ]
          },
          "metadata": {
            "tags": []
          },
          "execution_count": 5
        }
      ]
    },
    {
      "cell_type": "code",
      "metadata": {
        "id": "Wh06SUGoW055",
        "outputId": "c1fae453-3854-40a0-a1a5-d3b0ae75efac",
        "colab": {
          "base_uri": "https://localhost:8080/",
          "height": 32
        }
      },
      "source": [
        "def e(conf):\n",
        "  return(-h.dot(conf)-0.5*conf.dot(J.dot(conf)))\n",
        "\n",
        "def m(conf):\n",
        "  return(cp.sum(conf)/N)\n",
        "e(conf)"
      ],
      "execution_count": 15,
      "outputs": [
        {
          "output_type": "execute_result",
          "data": {
            "text/plain": [
              "array(-0.09200388)"
            ]
          },
          "metadata": {
            "tags": []
          },
          "execution_count": 15
        }
      ]
    },
    {
      "cell_type": "code",
      "metadata": {
        "id": "dJvrJjYIZbc3"
      },
      "source": [
        "te=1000\n",
        "e_t=np.zeros(te)\n",
        "m_t=np.zeros(te)\n",
        "for t in range (te):\n",
        "  for i in range(L):\n",
        "    k=cp.random.randint(N,size=L)\n",
        "    conf_1=conf.copy()\n",
        "    conf_1[k]=conf_1[k]*-1\n",
        "    trye=cp.exp((e(conf_1)-e(conf))*-1/T)\n",
        "    if trye>1 or (trye<1 and cp.random.rand()>trye):\n",
        "      conf[k]=conf_1[k]\n",
        "  e_t[t]=e(conf)\n",
        "  m_t[t]=m(conf)"
      ],
      "execution_count": 41,
      "outputs": []
    },
    {
      "cell_type": "code",
      "metadata": {
        "id": "NpPoZ2KYbNyQ",
        "outputId": "548b351d-8826-45c4-d4bf-6b599a058261",
        "colab": {
          "base_uri": "https://localhost:8080/",
          "height": 280
        }
      },
      "source": [
        "fig,axs=plt.subplots(2,1)\n",
        "axs[0].plot(cp.asnumpy(m_t))\n",
        "axs[1].plot(cp.asnumpy(e_t))"
      ],
      "execution_count": 42,
      "outputs": [
        {
          "output_type": "execute_result",
          "data": {
            "text/plain": [
              "[<matplotlib.lines.Line2D at 0x7fa69af41940>]"
            ]
          },
          "metadata": {
            "tags": []
          },
          "execution_count": 42
        },
        {
          "output_type": "display_data",
          "data": {
            "image/png": "[encoded data removed]",
            "text/plain": [
              "<Figure size 432x288 with 2 Axes>"
            ]
          },
          "metadata": {
            "tags": [],
            "needs_background": "light"
          }
        }
      ]
    },
    {
      "cell_type": "code",
      "metadata": {
        "id": "936u12bgP9Y-"
      },
      "source": [
        ""
      ],
      "execution_count": null,
      "outputs": []
    }
  ]
}