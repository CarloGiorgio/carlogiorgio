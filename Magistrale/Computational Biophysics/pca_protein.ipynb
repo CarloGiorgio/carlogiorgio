{
  "nbformat": 4,
  "nbformat_minor": 0,
  "metadata": {
    "colab": {
      "name": "pca_protein.ipynb",
      "provenance": [],
      "collapsed_sections": [],
      "authorship_tag": "ABX9TyMx2QfupR/ExHcA3/DDnMbl",
      "include_colab_link": true
    },
    "kernelspec": {
      "name": "python3",
      "display_name": "Python 3"
    }
  },
  "cells": [
    {
      "cell_type": "markdown",
      "metadata": {
        "id": "view-in-github",
        "colab_type": "text"
      },
      "source": [
        "<a href=\"https://colab.research.google.com/github/CarloGiorgio/carlogiorgio/blob/master/Magistrale/Computational%20Biophysics/pca_protein.ipynb\" target=\"_parent\"><img src=\"https://colab.research.google.com/assets/colab-badge.svg\" alt=\"Open In Colab\"/></a>"
      ]
    },
    {
      "cell_type": "code",
      "metadata": {
        "id": "UpXkBITHeQ-V"
      },
      "source": [
        "import numpy as np\n",
        "import pandas as pd\n",
        "import matplotlib.pyplot as plt"
      ],
      "execution_count": 250,
      "outputs": []
    },
    {
      "cell_type": "code",
      "metadata": {
        "id": "qotlNQIteQSM",
        "outputId": "eade1c73-79d3-4182-937a-d719d33834ff",
        "colab": {
          "base_uri": "https://localhost:8080/",
          "height": 204
        }
      },
      "source": [
        "df=pd.read_csv('prot.csv',delim_whitespace=True)\n",
        "df.head()"
      ],
      "execution_count": 251,
      "outputs": [
        {
          "output_type": "execute_result",
          "data": {
            "text/html": [
              "<div>\n",
              "<style scoped>\n",
              "    .dataframe tbody tr th:only-of-type {\n",
              "        vertical-align: middle;\n",
              "    }\n",
              "\n",
              "    .dataframe tbody tr th {\n",
              "        vertical-align: top;\n",
              "    }\n",
              "\n",
              "    .dataframe thead th {\n",
              "        text-align: right;\n",
              "    }\n",
              "</style>\n",
              "<table border=\"1\" class=\"dataframe\">\n",
              "  <thead>\n",
              "    <tr style=\"text-align: right;\">\n",
              "      <th></th>\n",
              "      <th>Name</th>\n",
              "      <th>Letter</th>\n",
              "      <th>Vol.</th>\n",
              "      <th>Bulk.</th>\n",
              "      <th>Polarity</th>\n",
              "      <th>pI</th>\n",
              "      <th>Hyd.1</th>\n",
              "      <th>Hyd.2</th>\n",
              "      <th>Surface</th>\n",
              "      <th>Fract.</th>\n",
              "    </tr>\n",
              "  </thead>\n",
              "  <tbody>\n",
              "    <tr>\n",
              "      <th>Alanine</th>\n",
              "      <td>Ala</td>\n",
              "      <td>A</td>\n",
              "      <td>67</td>\n",
              "      <td>11.50</td>\n",
              "      <td>0.00</td>\n",
              "      <td>6.00</td>\n",
              "      <td>1.8</td>\n",
              "      <td>1.6</td>\n",
              "      <td>113</td>\n",
              "      <td>0.74</td>\n",
              "    </tr>\n",
              "    <tr>\n",
              "      <th>Arginine</th>\n",
              "      <td>Arg</td>\n",
              "      <td>R</td>\n",
              "      <td>148</td>\n",
              "      <td>14.28</td>\n",
              "      <td>52.00</td>\n",
              "      <td>10.76</td>\n",
              "      <td>-4.5</td>\n",
              "      <td>-12.3</td>\n",
              "      <td>241</td>\n",
              "      <td>0.64</td>\n",
              "    </tr>\n",
              "    <tr>\n",
              "      <th>Asparagine</th>\n",
              "      <td>Asn</td>\n",
              "      <td>N</td>\n",
              "      <td>96</td>\n",
              "      <td>12.28</td>\n",
              "      <td>3.38</td>\n",
              "      <td>5.41</td>\n",
              "      <td>-3.5</td>\n",
              "      <td>-4.8</td>\n",
              "      <td>158</td>\n",
              "      <td>0.63</td>\n",
              "    </tr>\n",
              "    <tr>\n",
              "      <th>Asparticacid</th>\n",
              "      <td>Asp</td>\n",
              "      <td>D</td>\n",
              "      <td>91</td>\n",
              "      <td>11.68</td>\n",
              "      <td>49.70</td>\n",
              "      <td>2.77</td>\n",
              "      <td>-3.5</td>\n",
              "      <td>-9.2</td>\n",
              "      <td>151</td>\n",
              "      <td>0.62</td>\n",
              "    </tr>\n",
              "    <tr>\n",
              "      <th>Cysteine</th>\n",
              "      <td>Cys</td>\n",
              "      <td>C</td>\n",
              "      <td>86</td>\n",
              "      <td>13.46</td>\n",
              "      <td>1.48</td>\n",
              "      <td>5.05</td>\n",
              "      <td>2.5</td>\n",
              "      <td>2.0</td>\n",
              "      <td>140</td>\n",
              "      <td>0.91</td>\n",
              "    </tr>\n",
              "  </tbody>\n",
              "</table>\n",
              "</div>"
            ],
            "text/plain": [
              "             Name Letter  Vol.  Bulk.  ...  Hyd.1  Hyd.2  Surface  Fract.\n",
              "Alanine       Ala      A    67  11.50  ...    1.8    1.6      113    0.74\n",
              "Arginine      Arg      R   148  14.28  ...   -4.5  -12.3      241    0.64\n",
              "Asparagine    Asn      N    96  12.28  ...   -3.5   -4.8      158    0.63\n",
              "Asparticacid  Asp      D    91  11.68  ...   -3.5   -9.2      151    0.62\n",
              "Cysteine      Cys      C    86  13.46  ...    2.5    2.0      140    0.91\n",
              "\n",
              "[5 rows x 10 columns]"
            ]
          },
          "metadata": {
            "tags": []
          },
          "execution_count": 251
        }
      ]
    },
    {
      "cell_type": "code",
      "metadata": {
        "id": "sy8ezwCXeg2y",
        "outputId": "4bae415b-0180-4bca-e54d-6a582d5dc4eb",
        "colab": {
          "base_uri": "https://localhost:8080/"
        }
      },
      "source": [
        "names=df.columns\n",
        "names=names[2:]\n",
        "names"
      ],
      "execution_count": 252,
      "outputs": [
        {
          "output_type": "execute_result",
          "data": {
            "text/plain": [
              "Index(['Vol.', 'Bulk.', 'Polarity', 'pI', 'Hyd.1', 'Hyd.2', 'Surface',\n",
              "       'Fract.'],\n",
              "      dtype='object')"
            ]
          },
          "metadata": {
            "tags": []
          },
          "execution_count": 252
        }
      ]
    },
    {
      "cell_type": "code",
      "metadata": {
        "id": "b8EjcO7n1MnH",
        "outputId": "cc1059b3-89f7-4217-f033-9f80d377f59d",
        "colab": {
          "base_uri": "https://localhost:8080/"
        }
      },
      "source": [
        "df.shape"
      ],
      "execution_count": 253,
      "outputs": [
        {
          "output_type": "execute_result",
          "data": {
            "text/plain": [
              "(20, 10)"
            ]
          },
          "metadata": {
            "tags": []
          },
          "execution_count": 253
        }
      ]
    },
    {
      "cell_type": "code",
      "metadata": {
        "id": "7dN3d5-oeiMx",
        "outputId": "7c380fee-21b4-412f-b951-40549f0fb63e",
        "colab": {
          "base_uri": "https://localhost:8080/"
        }
      },
      "source": [
        "#Mean and variance of the data\n",
        "x=df.mean()\n",
        "s=df.var()**0.5\n",
        "print(x,x.shape)\n",
        "print(s,s.shape)"
      ],
      "execution_count": 254,
      "outputs": [
        {
          "output_type": "stream",
          "text": [
            "Vol.        109.2000\n",
            "Bulk.        15.3405\n",
            "Polarity     13.5940\n",
            "pI            6.0265\n",
            "Hyd.1        -0.4900\n",
            "Hyd.2        -1.3700\n",
            "Surface     175.4000\n",
            "Fract.        0.7365\n",
            "dtype: float64 (8,)\n",
            "Vol.        29.045518\n",
            "Bulk.        4.649875\n",
            "Polarity    21.914079\n",
            "pI           1.769190\n",
            "Hyd.1        2.986972\n",
            "Hyd.2        4.892970\n",
            "Surface     44.685333\n",
            "Fract.       0.115315\n",
            "dtype: float64 (8,)\n"
          ],
          "name": "stdout"
        }
      ]
    },
    {
      "cell_type": "code",
      "metadata": {
        "id": "fadPNBPJhZsT",
        "outputId": "0817bef6-67c5-420c-85e6-496f07a286ef",
        "colab": {
          "base_uri": "https://localhost:8080/",
          "height": 297
        }
      },
      "source": [
        "#z transform\n",
        "for i,name in enumerate(names):\n",
        "  df[name]=(df[name]-x[i])/s[i]\n",
        "df.describe()"
      ],
      "execution_count": 255,
      "outputs": [
        {
          "output_type": "execute_result",
          "data": {
            "text/html": [
              "<div>\n",
              "<style scoped>\n",
              "    .dataframe tbody tr th:only-of-type {\n",
              "        vertical-align: middle;\n",
              "    }\n",
              "\n",
              "    .dataframe tbody tr th {\n",
              "        vertical-align: top;\n",
              "    }\n",
              "\n",
              "    .dataframe thead th {\n",
              "        text-align: right;\n",
              "    }\n",
              "</style>\n",
              "<table border=\"1\" class=\"dataframe\">\n",
              "  <thead>\n",
              "    <tr style=\"text-align: right;\">\n",
              "      <th></th>\n",
              "      <th>Vol.</th>\n",
              "      <th>Bulk.</th>\n",
              "      <th>Polarity</th>\n",
              "      <th>pI</th>\n",
              "      <th>Hyd.1</th>\n",
              "      <th>Hyd.2</th>\n",
              "      <th>Surface</th>\n",
              "      <th>Fract.</th>\n",
              "    </tr>\n",
              "  </thead>\n",
              "  <tbody>\n",
              "    <tr>\n",
              "      <th>count</th>\n",
              "      <td>2.000000e+01</td>\n",
              "      <td>2.000000e+01</td>\n",
              "      <td>2.000000e+01</td>\n",
              "      <td>2.000000e+01</td>\n",
              "      <td>2.000000e+01</td>\n",
              "      <td>2.000000e+01</td>\n",
              "      <td>2.000000e+01</td>\n",
              "      <td>2.000000e+01</td>\n",
              "    </tr>\n",
              "    <tr>\n",
              "      <th>mean</th>\n",
              "      <td>-1.193490e-16</td>\n",
              "      <td>-1.110223e-16</td>\n",
              "      <td>-2.109424e-16</td>\n",
              "      <td>7.875645e-16</td>\n",
              "      <td>3.330669e-17</td>\n",
              "      <td>2.220446e-17</td>\n",
              "      <td>-1.332268e-16</td>\n",
              "      <td>5.773160e-16</td>\n",
              "    </tr>\n",
              "    <tr>\n",
              "      <th>std</th>\n",
              "      <td>1.000000e+00</td>\n",
              "      <td>1.000000e+00</td>\n",
              "      <td>1.000000e+00</td>\n",
              "      <td>1.000000e+00</td>\n",
              "      <td>1.000000e+00</td>\n",
              "      <td>1.000000e+00</td>\n",
              "      <td>1.000000e+00</td>\n",
              "      <td>1.000000e+00</td>\n",
              "    </tr>\n",
              "    <tr>\n",
              "      <th>min</th>\n",
              "      <td>-2.107038e+00</td>\n",
              "      <td>-2.567918e+00</td>\n",
              "      <td>-6.203318e-01</td>\n",
              "      <td>-1.840672e+00</td>\n",
              "      <td>-1.342497e+00</td>\n",
              "      <td>-2.233817e+00</td>\n",
              "      <td>-2.023035e+00</td>\n",
              "      <td>-1.877460e+00</td>\n",
              "    </tr>\n",
              "    <tr>\n",
              "      <th>25%</th>\n",
              "      <td>-6.352099e-01</td>\n",
              "      <td>-4.678620e-01</td>\n",
              "      <td>-6.068701e-01</td>\n",
              "      <td>-2.368315e-01</td>\n",
              "      <td>-1.007710e+00</td>\n",
              "      <td>-5.937089e-01</td>\n",
              "      <td>-6.747180e-01</td>\n",
              "      <td>-8.585153e-01</td>\n",
              "    </tr>\n",
              "    <tr>\n",
              "      <th>50%</th>\n",
              "      <td>7.918606e-02</td>\n",
              "      <td>-5.602301e-02</td>\n",
              "      <td>-5.457222e-01</td>\n",
              "      <td>-1.195462e-01</td>\n",
              "      <td>-1.205234e-01</td>\n",
              "      <td>4.434934e-01</td>\n",
              "      <td>1.253208e-01</td>\n",
              "      <td>-5.636717e-02</td>\n",
              "    </tr>\n",
              "    <tr>\n",
              "      <th>75%</th>\n",
              "      <td>6.042240e-01</td>\n",
              "      <td>6.735664e-01</td>\n",
              "      <td>6.518640e-02</td>\n",
              "      <td>-1.215245e-02</td>\n",
              "      <td>8.503596e-01</td>\n",
              "      <td>7.193994e-01</td>\n",
              "      <td>6.791938e-01</td>\n",
              "      <td>9.842575e-01</td>\n",
              "    </tr>\n",
              "    <tr>\n",
              "      <th>max</th>\n",
              "      <td>1.852265e+00</td>\n",
              "      <td>1.361219e+00</td>\n",
              "      <td>1.752572e+00</td>\n",
              "      <td>2.675518e+00</td>\n",
              "      <td>1.670588e+00</td>\n",
              "      <td>1.036180e+00</td>\n",
              "      <td>1.870860e+00</td>\n",
              "      <td>1.504570e+00</td>\n",
              "    </tr>\n",
              "  </tbody>\n",
              "</table>\n",
              "</div>"
            ],
            "text/plain": [
              "               Vol.         Bulk.  ...       Surface        Fract.\n",
              "count  2.000000e+01  2.000000e+01  ...  2.000000e+01  2.000000e+01\n",
              "mean  -1.193490e-16 -1.110223e-16  ... -1.332268e-16  5.773160e-16\n",
              "std    1.000000e+00  1.000000e+00  ...  1.000000e+00  1.000000e+00\n",
              "min   -2.107038e+00 -2.567918e+00  ... -2.023035e+00 -1.877460e+00\n",
              "25%   -6.352099e-01 -4.678620e-01  ... -6.747180e-01 -8.585153e-01\n",
              "50%    7.918606e-02 -5.602301e-02  ...  1.253208e-01 -5.636717e-02\n",
              "75%    6.042240e-01  6.735664e-01  ...  6.791938e-01  9.842575e-01\n",
              "max    1.852265e+00  1.361219e+00  ...  1.870860e+00  1.504570e+00\n",
              "\n",
              "[8 rows x 8 columns]"
            ]
          },
          "metadata": {
            "tags": []
          },
          "execution_count": 255
        }
      ]
    },
    {
      "cell_type": "code",
      "metadata": {
        "id": "5kQraLSoe2IJ",
        "outputId": "c7177c49-ed05-4762-cc1b-5947584e697e",
        "colab": {
          "base_uri": "https://localhost:8080/"
        }
      },
      "source": [
        "#take the correlation matrix\n",
        "x=df.corr()\n",
        "x.shape"
      ],
      "execution_count": 261,
      "outputs": [
        {
          "output_type": "execute_result",
          "data": {
            "text/plain": [
              "(8, 8)"
            ]
          },
          "metadata": {
            "tags": []
          },
          "execution_count": 261
        }
      ]
    },
    {
      "cell_type": "code",
      "metadata": {
        "id": "osfJa6HdfJ0l",
        "outputId": "81a76258-3fc9-4801-d245-d3801f2372f5",
        "colab": {
          "base_uri": "https://localhost:8080/"
        }
      },
      "source": [
        "#diagonalize and take the matrix with the eigenvector\n",
        "l,v=np.linalg.eig(x)\n",
        "print(l)\n",
        "print(l.shape,v.shape)"
      ],
      "execution_count": 281,
      "outputs": [
        {
          "output_type": "stream",
          "text": [
            "[3.57289279e+00 2.81331163e+00 7.84551075e-01 4.26892356e-01\n",
            " 2.78228871e-01 3.35430364e-03 4.65933157e-02 7.41756600e-02]\n",
            "(8,) (8, 8)\n"
          ],
          "name": "stdout"
        }
      ]
    },
    {
      "cell_type": "code",
      "metadata": {
        "id": "eAjsiLLKCH6n",
        "outputId": "34d44a27-0d50-4b82-8dd0-be52636f7f18",
        "colab": {
          "base_uri": "https://localhost:8080/"
        }
      },
      "source": [
        "v"
      ],
      "execution_count": 282,
      "outputs": [
        {
          "output_type": "execute_result",
          "data": {
            "text/plain": [
              "array([[ 5.77917170e-02,  5.84887446e-01, -1.05908398e-01,\n",
              "         9.62082545e-02, -1.68693675e-01,  7.38856435e-01,\n",
              "        -2.15311463e-01,  1.15623363e-01],\n",
              "       [-2.21464102e-01,  4.80941380e-01, -1.69146333e-01,\n",
              "         1.45311154e-01,  6.89638741e-01, -1.08982160e-01,\n",
              "         3.47384727e-01, -2.48532442e-01],\n",
              "       [ 4.43534187e-01,  1.04052706e-01, -1.42504076e-01,\n",
              "        -7.33197524e-01,  1.61436004e-01, -1.04386126e-02,\n",
              "        -2.29905261e-01, -3.94382380e-01],\n",
              "       [ 1.85432656e-01,  2.52649044e-01,  9.41826220e-01,\n",
              "        -2.70597776e-02,  5.33749852e-02, -3.03280668e-02,\n",
              "         9.06639516e-02, -4.50077566e-02],\n",
              "       [-4.92907779e-01,  3.26764495e-02,  1.27905453e-01,\n",
              "        -3.54438938e-01,  3.42849243e-01, -6.65110520e-02,\n",
              "        -4.94567465e-01,  4.97414419e-01],\n",
              "       [-5.07834603e-01, -3.35245081e-02,  1.28866135e-01,\n",
              "         1.32251326e-01, -1.85634034e-01,  1.85043820e-02,\n",
              "        -4.05379234e-01, -7.12564733e-01],\n",
              "       [ 1.00406654e-01,  5.65809916e-01, -1.40934412e-01,\n",
              "         1.11936686e-01, -3.66979118e-01, -6.59928170e-01,\n",
              "        -2.35070850e-01,  1.09307573e-01],\n",
              "       [-4.53398683e-01,  1.72078630e-01,  3.08983386e-04,\n",
              "        -5.25043430e-01, -4.24677652e-01,  3.02320959e-02,\n",
              "         5.54707886e-01,  1.34890342e-02]])"
            ]
          },
          "metadata": {
            "tags": []
          },
          "execution_count": 282
        }
      ]
    },
    {
      "cell_type": "code",
      "metadata": {
        "id": "Wn8XEU0hpS2f"
      },
      "source": [
        "y=np.zeros((20,8))\n",
        "l=0\n",
        "for i in range(20):\n",
        "  for j in range(8):\n",
        "    y[i,j]=sum(v.T[j]*df.iloc[i,2:])"
      ],
      "execution_count": 290,
      "outputs": []
    },
    {
      "cell_type": "code",
      "metadata": {
        "id": "mtlUHZ4rEyt6",
        "outputId": "ef0d990f-a2c9-455c-83f2-eafb667e2c31",
        "colab": {
          "base_uri": "https://localhost:8080/",
          "height": 669
        }
      },
      "source": [
        "pd.DataFrame(y)"
      ],
      "execution_count": 291,
      "outputs": [
        {
          "output_type": "execute_result",
          "data": {
            "text/html": [
              "<div>\n",
              "<style scoped>\n",
              "    .dataframe tbody tr th:only-of-type {\n",
              "        vertical-align: middle;\n",
              "    }\n",
              "\n",
              "    .dataframe tbody tr th {\n",
              "        vertical-align: top;\n",
              "    }\n",
              "\n",
              "    .dataframe thead th {\n",
              "        text-align: right;\n",
              "    }\n",
              "</style>\n",
              "<table border=\"1\" class=\"dataframe\">\n",
              "  <thead>\n",
              "    <tr style=\"text-align: right;\">\n",
              "      <th></th>\n",
              "      <th>0</th>\n",
              "      <th>1</th>\n",
              "      <th>2</th>\n",
              "      <th>3</th>\n",
              "      <th>4</th>\n",
              "      <th>5</th>\n",
              "      <th>6</th>\n",
              "      <th>7</th>\n",
              "    </tr>\n",
              "  </thead>\n",
              "  <tbody>\n",
              "    <tr>\n",
              "      <th>0</th>\n",
              "      <td>-1.019084</td>\n",
              "      <td>-2.095526</td>\n",
              "      <td>0.740966</td>\n",
              "      <td>-0.168274</td>\n",
              "      <td>0.224295</td>\n",
              "      <td>-0.093834</td>\n",
              "      <td>-0.112966</td>\n",
              "      <td>0.079202</td>\n",
              "    </tr>\n",
              "    <tr>\n",
              "      <th>1</th>\n",
              "      <td>3.724122</td>\n",
              "      <td>2.247602</td>\n",
              "      <td>1.500493</td>\n",
              "      <td>-0.477892</td>\n",
              "      <td>-0.185857</td>\n",
              "      <td>-0.033739</td>\n",
              "      <td>0.233004</td>\n",
              "      <td>0.472676</td>\n",
              "    </tr>\n",
              "    <tr>\n",
              "      <th>2</th>\n",
              "      <td>1.080500</td>\n",
              "      <td>-1.107567</td>\n",
              "      <td>-0.266946</td>\n",
              "      <td>0.917584</td>\n",
              "      <td>-0.151343</td>\n",
              "      <td>0.034485</td>\n",
              "      <td>0.306554</td>\n",
              "      <td>0.253779</td>\n",
              "    </tr>\n",
              "    <tr>\n",
              "      <th>3</th>\n",
              "      <td>2.240186</td>\n",
              "      <td>-1.500789</td>\n",
              "      <td>-2.027333</td>\n",
              "      <td>-0.718046</td>\n",
              "      <td>0.311537</td>\n",
              "      <td>0.028666</td>\n",
              "      <td>0.030809</td>\n",
              "      <td>0.121977</td>\n",
              "    </tr>\n",
              "    <tr>\n",
              "      <th>4</th>\n",
              "      <td>-1.909017</td>\n",
              "      <td>-1.038362</td>\n",
              "      <td>0.040842</td>\n",
              "      <td>-0.857721</td>\n",
              "      <td>-0.395752</td>\n",
              "      <td>-0.009123</td>\n",
              "      <td>0.355089</td>\n",
              "      <td>0.191858</td>\n",
              "    </tr>\n",
              "    <tr>\n",
              "      <th>5</th>\n",
              "      <td>1.077475</td>\n",
              "      <td>-0.112866</td>\n",
              "      <td>-0.364091</td>\n",
              "      <td>1.178437</td>\n",
              "      <td>-0.170018</td>\n",
              "      <td>-0.020472</td>\n",
              "      <td>0.076788</td>\n",
              "      <td>0.173363</td>\n",
              "    </tr>\n",
              "    <tr>\n",
              "      <th>6</th>\n",
              "      <td>2.205312</td>\n",
              "      <td>-0.479292</td>\n",
              "      <td>-1.998051</td>\n",
              "      <td>-0.505746</td>\n",
              "      <td>0.201617</td>\n",
              "      <td>-0.034363</td>\n",
              "      <td>-0.191650</td>\n",
              "      <td>0.010211</td>\n",
              "    </tr>\n",
              "    <tr>\n",
              "      <th>7</th>\n",
              "      <td>-0.233210</td>\n",
              "      <td>-3.724543</td>\n",
              "      <td>1.067173</td>\n",
              "      <td>-0.218118</td>\n",
              "      <td>-0.793748</td>\n",
              "      <td>0.068194</td>\n",
              "      <td>-0.113733</td>\n",
              "      <td>0.087454</td>\n",
              "    </tr>\n",
              "    <tr>\n",
              "      <th>8</th>\n",
              "      <td>1.516360</td>\n",
              "      <td>0.692177</td>\n",
              "      <td>0.395611</td>\n",
              "      <td>-1.191894</td>\n",
              "      <td>-0.530920</td>\n",
              "      <td>0.008524</td>\n",
              "      <td>0.188010</td>\n",
              "      <td>-0.763838</td>\n",
              "    </tr>\n",
              "    <tr>\n",
              "      <th>9</th>\n",
              "      <td>-2.369109</td>\n",
              "      <td>1.181578</td>\n",
              "      <td>0.120678</td>\n",
              "      <td>-0.419180</td>\n",
              "      <td>0.533861</td>\n",
              "      <td>0.086927</td>\n",
              "      <td>-0.057084</td>\n",
              "      <td>0.190451</td>\n",
              "    </tr>\n",
              "    <tr>\n",
              "      <th>10</th>\n",
              "      <td>-2.113191</td>\n",
              "      <td>1.100172</td>\n",
              "      <td>0.067735</td>\n",
              "      <td>-0.212030</td>\n",
              "      <td>0.590597</td>\n",
              "      <td>0.123737</td>\n",
              "      <td>-0.052166</td>\n",
              "      <td>0.110187</td>\n",
              "    </tr>\n",
              "    <tr>\n",
              "      <th>11</th>\n",
              "      <td>3.414777</td>\n",
              "      <td>1.399848</td>\n",
              "      <td>1.181306</td>\n",
              "      <td>0.117608</td>\n",
              "      <td>0.676933</td>\n",
              "      <td>0.032195</td>\n",
              "      <td>-0.398581</td>\n",
              "      <td>-0.081777</td>\n",
              "    </tr>\n",
              "    <tr>\n",
              "      <th>12</th>\n",
              "      <td>-1.561560</td>\n",
              "      <td>0.818396</td>\n",
              "      <td>-0.022395</td>\n",
              "      <td>-0.111001</td>\n",
              "      <td>-0.608830</td>\n",
              "      <td>-0.061928</td>\n",
              "      <td>-0.324223</td>\n",
              "      <td>0.023087</td>\n",
              "    </tr>\n",
              "    <tr>\n",
              "      <th>13</th>\n",
              "      <td>-2.024013</td>\n",
              "      <td>1.594651</td>\n",
              "      <td>-0.320663</td>\n",
              "      <td>-0.123725</td>\n",
              "      <td>-0.295540</td>\n",
              "      <td>-0.078141</td>\n",
              "      <td>-0.245753</td>\n",
              "      <td>0.047123</td>\n",
              "    </tr>\n",
              "    <tr>\n",
              "      <th>14</th>\n",
              "      <td>0.016143</td>\n",
              "      <td>-0.762910</td>\n",
              "      <td>0.302934</td>\n",
              "      <td>0.921032</td>\n",
              "      <td>0.790834</td>\n",
              "      <td>-0.054010</td>\n",
              "      <td>0.231586</td>\n",
              "      <td>-0.424635</td>\n",
              "    </tr>\n",
              "    <tr>\n",
              "      <th>15</th>\n",
              "      <td>-0.042594</td>\n",
              "      <td>-2.249450</td>\n",
              "      <td>0.445450</td>\n",
              "      <td>0.405466</td>\n",
              "      <td>-0.148766</td>\n",
              "      <td>0.011286</td>\n",
              "      <td>-0.261850</td>\n",
              "      <td>-0.085011</td>\n",
              "    </tr>\n",
              "    <tr>\n",
              "      <th>16</th>\n",
              "      <td>-0.487276</td>\n",
              "      <td>-0.837436</td>\n",
              "      <td>0.077267</td>\n",
              "      <td>0.551578</td>\n",
              "      <td>0.313078</td>\n",
              "      <td>0.028823</td>\n",
              "      <td>0.059528</td>\n",
              "      <td>-0.348775</td>\n",
              "    </tr>\n",
              "    <tr>\n",
              "      <th>17</th>\n",
              "      <td>-0.971503</td>\n",
              "      <td>2.864995</td>\n",
              "      <td>-0.619137</td>\n",
              "      <td>0.592331</td>\n",
              "      <td>-0.738187</td>\n",
              "      <td>0.044643</td>\n",
              "      <td>0.090803</td>\n",
              "      <td>-0.240526</td>\n",
              "    </tr>\n",
              "    <tr>\n",
              "      <th>18</th>\n",
              "      <td>-0.253622</td>\n",
              "      <td>1.509596</td>\n",
              "      <td>-0.516989</td>\n",
              "      <td>0.737440</td>\n",
              "      <td>-0.530271</td>\n",
              "      <td>-0.006972</td>\n",
              "      <td>-0.018174</td>\n",
              "      <td>0.109237</td>\n",
              "    </tr>\n",
              "    <tr>\n",
              "      <th>19</th>\n",
              "      <td>-2.290696</td>\n",
              "      <td>0.499724</td>\n",
              "      <td>0.195150</td>\n",
              "      <td>-0.417848</td>\n",
              "      <td>0.906480</td>\n",
              "      <td>-0.074899</td>\n",
              "      <td>0.204010</td>\n",
              "      <td>0.073958</td>\n",
              "    </tr>\n",
              "  </tbody>\n",
              "</table>\n",
              "</div>"
            ],
            "text/plain": [
              "           0         1         2  ...         5         6         7\n",
              "0  -1.019084 -2.095526  0.740966  ... -0.093834 -0.112966  0.079202\n",
              "1   3.724122  2.247602  1.500493  ... -0.033739  0.233004  0.472676\n",
              "2   1.080500 -1.107567 -0.266946  ...  0.034485  0.306554  0.253779\n",
              "3   2.240186 -1.500789 -2.027333  ...  0.028666  0.030809  0.121977\n",
              "4  -1.909017 -1.038362  0.040842  ... -0.009123  0.355089  0.191858\n",
              "5   1.077475 -0.112866 -0.364091  ... -0.020472  0.076788  0.173363\n",
              "6   2.205312 -0.479292 -1.998051  ... -0.034363 -0.191650  0.010211\n",
              "7  -0.233210 -3.724543  1.067173  ...  0.068194 -0.113733  0.087454\n",
              "8   1.516360  0.692177  0.395611  ...  0.008524  0.188010 -0.763838\n",
              "9  -2.369109  1.181578  0.120678  ...  0.086927 -0.057084  0.190451\n",
              "10 -2.113191  1.100172  0.067735  ...  0.123737 -0.052166  0.110187\n",
              "11  3.414777  1.399848  1.181306  ...  0.032195 -0.398581 -0.081777\n",
              "12 -1.561560  0.818396 -0.022395  ... -0.061928 -0.324223  0.023087\n",
              "13 -2.024013  1.594651 -0.320663  ... -0.078141 -0.245753  0.047123\n",
              "14  0.016143 -0.762910  0.302934  ... -0.054010  0.231586 -0.424635\n",
              "15 -0.042594 -2.249450  0.445450  ...  0.011286 -0.261850 -0.085011\n",
              "16 -0.487276 -0.837436  0.077267  ...  0.028823  0.059528 -0.348775\n",
              "17 -0.971503  2.864995 -0.619137  ...  0.044643  0.090803 -0.240526\n",
              "18 -0.253622  1.509596 -0.516989  ... -0.006972 -0.018174  0.109237\n",
              "19 -2.290696  0.499724  0.195150  ... -0.074899  0.204010  0.073958\n",
              "\n",
              "[20 rows x 8 columns]"
            ]
          },
          "metadata": {
            "tags": []
          },
          "execution_count": 291
        }
      ]
    },
    {
      "cell_type": "code",
      "metadata": {
        "id": "Ehnu6QGvFayF",
        "outputId": "8775f66e-bbc2-413d-f5da-08aaf07310d8",
        "colab": {
          "base_uri": "https://localhost:8080/"
        }
      },
      "source": [
        "sum(y**2)/20"
      ],
      "execution_count": 292,
      "outputs": [
        {
          "output_type": "execute_result",
          "data": {
            "text/plain": [
              "array([3.39424815e+00, 2.67264605e+00, 7.45323521e-01, 4.05547739e-01,\n",
              "       2.64317428e-01, 3.18658846e-03, 4.42636499e-02, 7.04668770e-02])"
            ]
          },
          "metadata": {
            "tags": []
          },
          "execution_count": 292
        }
      ]
    },
    {
      "cell_type": "code",
      "metadata": {
        "id": "vXITGwcDqora",
        "outputId": "4b21e15a-f743-4324-b6c8-adf215e4fb3b",
        "colab": {
          "base_uri": "https://localhost:8080/",
          "height": 265
        }
      },
      "source": [
        "fig,ax=plt.subplots()\n",
        "ax.scatter(y[:,0],y[:,1],marker='.')\n",
        "for i, txt in enumerate(df['Name']):\n",
        "    ax.annotate(txt, (y[i,0], y[i,1]))"
      ],
      "execution_count": 293,
      "outputs": [
        {
          "output_type": "display_data",
          "data": {
            "image/png": "[encoded data removed]",
            "text/plain": [
              "<Figure size 432x288 with 1 Axes>"
            ]
          },
          "metadata": {
            "tags": [],
            "needs_background": "light"
          }
        }
      ]
    },
    {
      "cell_type": "code",
      "metadata": {
        "id": "3_pliyN1xm0x"
      },
      "source": [
        "from sklearn.decomposition import PCA"
      ],
      "execution_count": 166,
      "outputs": []
    },
    {
      "cell_type": "code",
      "metadata": {
        "id": "ZRzmx1mDx8Dk"
      },
      "source": [
        "pca=PCA(2)\n",
        "pca=pca.fit(df[names])\n",
        "pca.explained_variance_ratio_\n",
        "pca=pca.transform(df[names])"
      ],
      "execution_count": 294,
      "outputs": []
    },
    {
      "cell_type": "code",
      "metadata": {
        "id": "dW3nez_Wx_6k",
        "outputId": "f00a912f-ecfa-476d-9048-f2adaef4fa2e",
        "colab": {
          "base_uri": "https://localhost:8080/",
          "height": 282
        }
      },
      "source": [
        "fig, ax = plt.subplots()\n",
        "ax.scatter(pca[:,0], pca[:,1],marker='.')\n",
        "ax.set_xlabel('Pca 1')\n",
        "ax.set_ylabel('Pca 2')\n",
        "for i, txt in enumerate(df['Name']):\n",
        "    ax.annotate(txt, (pca[i,0], pca[i,1]))"
      ],
      "execution_count": 295,
      "outputs": [
        {
          "output_type": "display_data",
          "data": {
            "image/png": "[encoded data removed]",
            "text/plain": [
              "<Figure size 432x288 with 1 Axes>"
            ]
          },
          "metadata": {
            "tags": [],
            "needs_background": "light"
          }
        }
      ]
    },
    {
      "cell_type": "code",
      "metadata": {
        "id": "RYQT6peqyMAM"
      },
      "source": [
        ""
      ],
      "execution_count": null,
      "outputs": []
    }
  ]
}