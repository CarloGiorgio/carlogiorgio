{
 "cells": [
  {
   "cell_type": "markdown",
   "metadata": {},
   "source": [
    "# Hard Sphere interaction\n",
    "We will consider the A-O model: the solute is an hard sphere and interact with an hard sphere potential with solute and cosolute whereas the cosolute interact as an ideal gas with the cosolute.\n",
    "\n",
    "We will assume a periodic boundary condiction in order to consider a gas in a infinity box.\n",
    "\n",
    "We will monitor the behavior of the distance between the two solute, we will keep one stable."
   ]
  },
  {
   "cell_type": "code",
   "execution_count": 1,
   "metadata": {},
   "outputs": [],
   "source": [
    "import numpy as np\n",
    "import numpy.random as rand\n",
    "import matplotlib.pyplot as plt"
   ]
  },
  {
   "cell_type": "code",
   "execution_count": 131,
   "metadata": {},
   "outputs": [],
   "source": [
    "#Initialization\n",
    "L=5 #cube lenght\n",
    "r=0.2 #cosolute radius\n",
    "R=1 #solute radius"
   ]
  },
  {
   "cell_type": "code",
   "execution_count": 132,
   "metadata": {},
   "outputs": [
    {
     "name": "stdout",
     "output_type": "stream",
     "text": [
      "[0.24862243 3.35665546 2.04009284] [1.72451252 1.61834299 4.58573442] 3.417641423256204 3.3502025395761326\n"
     ]
    }
   ],
   "source": [
    "#Position of the 2 hard shpere\n",
    "R_1=rand.uniform(0,L,3)\n",
    "while(True):\n",
    "    R_2=rand.uniform(0,L,3)\n",
    "    if (np.linalg.norm(R_1-R_2-L*np.rint((R_1-R_2)/L))>2*R):\n",
    "        break\n",
    "print(R_1,R_2,np.linalg.norm(R_1-R_2),np.linalg.norm(R_1-R_2-L*np.rint((R_1-R_2)/L)))"
   ]
  },
  {
   "cell_type": "code",
   "execution_count": 133,
   "metadata": {},
   "outputs": [
    {
     "name": "stdout",
     "output_type": "stream",
     "text": [
      "[[3.24376543 3.38880507 3.5412113 ]\n",
      " [2.09323068 3.31093543 4.73914908]\n",
      " [0.83505143 4.7048181  1.96015717]\n",
      " [3.04159741 2.65299272 4.97547032]\n",
      " [4.57031769 1.80312753 3.99906598]\n",
      " [3.12071184 0.85331548 4.09678403]\n",
      " [3.55319034 4.12668182 1.87036646]\n",
      " [4.8140449  4.86537745 3.89903776]\n",
      " [4.8857387  0.62467004 4.20363788]\n",
      " [0.23385905 0.64611622 0.51632527]]\n"
     ]
    }
   ],
   "source": [
    "#Position of the cosolute\n",
    "N=10\n",
    "r_c=[]\n",
    "for i in range(N):\n",
    "    while(True):\n",
    "        r_p=rand.uniform(0,L,3)\n",
    "        if (np.linalg.norm(r_p-R_2-L*np.rint((r_p-R_2)/L))>R+r and \n",
    "            np.linalg.norm(r_p-R_1-L*np.rint((r_p-R_1)/L))>R+r): #must not overlap\n",
    "            break\n",
    "    r_c.append(r_p)\n",
    "r_c=np.asarray(r_c)\n",
    "print(r_c)"
   ]
  },
  {
   "cell_type": "markdown",
   "metadata": {},
   "source": [
    "## Montecarlo Step\n",
    "1. We choose a particle (cosolute or one of the solute one)\n",
    "2. We try to move it with a displacement of $$\\frac{\\sigma}{10}$$ \n",
    "3. We repeat it N+2 times"
   ]
  },
  {
   "cell_type": "code",
   "execution_count": 134,
   "metadata": {},
   "outputs": [],
   "source": [
    "#function for a displacement of exact magnitude\n",
    "def random_vec(radius): \n",
    "    r=rand.uniform(0,1,3)\n",
    "    r=r/np.linalg.norm(r)\n",
    "    return(r*radius)"
   ]
  },
  {
   "cell_type": "code",
   "execution_count": 135,
   "metadata": {},
   "outputs": [],
   "source": [
    "#MonteCarlo simulation\n",
    "R_d=[np.linalg.norm(R_2-R_1-L*np.rint((R_2-R_1)/L))]\n",
    "T=10000 #time simulation\n",
    "d=0\n",
    "for t in range(T):\n",
    "    for i in range (N+1):\n",
    "        r_p=random_vec(r/10)\n",
    "        n_p=rand.randint(0,N+1)\n",
    "        if n_p==N:\n",
    "            R_p=r_p+R_2\n",
    "            if (np.linalg.norm(R_p-R_1-L*np.rint((R_p-R_1)/L))>2*R and \n",
    "                np.all(np.linalg.norm(R_p-r_c-L*np.rint((R_p-r_c)/L),axis=1)>R+r)):\n",
    "                R_2=R_p\n",
    "                d+=1\n",
    "        else:\n",
    "            R_p=r_c[n_p]+r_p\n",
    "            if (np.linalg.norm(R_p-R_1-L*np.rint((R_p-R_1)/L))>R+r and \n",
    "                np.linalg.norm(R_p-R_2-L*np.rint((R_p-R_2)/L))>R+r):\n",
    "                #print('im in 2')\n",
    "                r_c[n_p]=R_p\n",
    "        \n",
    "    R_d.append(np.linalg.norm(R_2-R_1-L*np.rint((R_2-R_1)/L)))\n",
    "    d=0\n",
    "R_d=np.asarray(R_d)"
   ]
  },
  {
   "cell_type": "code",
   "execution_count": 139,
   "metadata": {},
   "outputs": [
    {
     "data": {
      "text/plain": [
       "Text(0, 0.5, 'R')"
      ]
     },
     "execution_count": 139,
     "metadata": {},
     "output_type": "execute_result"
    },
    {
     "data": {
      "image/png": "[encoded data removed]",
      "text/plain": [
       "<Figure size 432x288 with 1 Axes>"
      ]
     },
     "metadata": {
      "needs_background": "light"
     },
     "output_type": "display_data"
    }
   ],
   "source": [
    "#plt.hist(R_d)\n",
    "plt.plot(R_d)\n",
    "plt.xlabel('t')\n",
    "plt.ylabel('R')"
   ]
  }
 ],
 "metadata": {
  "kernelspec": {
   "display_name": "Python 3",
   "language": "python",
   "name": "python3"
  },
  "language_info": {
   "codemirror_mode": {
    "name": "ipython",
    "version": 3
   },
   "file_extension": ".py",
   "mimetype": "text/x-python",
   "name": "python",
   "nbconvert_exporter": "python",
   "pygments_lexer": "ipython3",
   "version": "3.7.6"
  }
 },
 "nbformat": 4,
 "nbformat_minor": 4
}
