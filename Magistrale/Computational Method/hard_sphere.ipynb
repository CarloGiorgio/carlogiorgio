{
 "cells": [
  {
   "cell_type": "markdown",
   "metadata": {},
   "source": [
    "# Hard Sphere interaction"
   ]
  },
  {
   "cell_type": "code",
   "execution_count": 3,
   "metadata": {},
   "outputs": [],
   "source": [
    "import numpy as np\n",
    "import numpy.random as rand\n",
    "import matplotlib.pyplot as plt"
   ]
  },
  {
   "cell_type": "code",
   "execution_count": 4,
   "metadata": {},
   "outputs": [],
   "source": [
    "#Initialization\n",
    "L=10 #cube lenght\n",
    "r=0.2 #cosolute radius\n",
    "R=1 #solute radius"
   ]
  },
  {
   "cell_type": "code",
   "execution_count": 8,
   "metadata": {},
   "outputs": [
    {
     "name": "stdout",
     "output_type": "stream",
     "text": [
      "[7.20931674 8.46486422 0.01405393] [9.80167095 9.10362069 8.8137338 ]\n"
     ]
    }
   ],
   "source": [
    "#Position of the 2 hard shpere\n",
    "R_1=rand.uniform(0,L,3)\n",
    "while(True):\n",
    "    R_2=rand.uniform(0,L,3)\n",
    "    if (np.linalg.norm(R_1-R_2)>2*R):\n",
    "        break\n",
    "print(R_1,R_2)"
   ]
  },
  {
   "cell_type": "code",
   "execution_count": 12,
   "metadata": {},
   "outputs": [
    {
     "name": "stdout",
     "output_type": "stream",
     "text": [
      "[array([7.31536238, 2.30825602, 9.31866417]), array([1.47472776, 4.12805983, 9.81824968]), array([3.28918448, 0.46996625, 8.88759929]), array([0.74125568, 6.21469086, 1.76774312]), array([8.17198275, 0.37072249, 6.0350189 ]), array([2.6552206 , 5.88958153, 2.00556129]), array([5.56948349, 3.89394592, 4.27753008]), array([5.81905949, 4.99248166, 7.39966657]), array([5.39750921, 9.8558097 , 2.39844986]), array([2.09636739, 2.44059255, 4.797943  ]), array([4.71113141, 7.27679245, 0.79430993]), array([6.15518112, 8.49237884, 6.58996656]), array([5.80713513, 2.51049791, 0.46066443]), array([8.80535495, 5.18714911, 6.33042427]), array([7.74109334, 9.24214426, 7.18898119]), array([9.34627598, 6.00786598, 0.9328512 ]), array([8.46703352, 5.4062874 , 9.02932703]), array([3.92041594, 8.2901092 , 2.34133629]), array([1.01699856, 4.70590893, 5.54059139]), array([4.75180303, 0.47000111, 8.75661183])]\n"
     ]
    }
   ],
   "source": [
    "#Position of the cosolute\n",
    "N=20\n",
    "r_c=[]\n",
    "for i in range(N):\n",
    "    while(True):\n",
    "        r_p=rand.uniform(0,L,3)\n",
    "        if (np.linalg.norm(r_p-R_2)>R+r and np.linalg.norm(r_p-R_1)>R+r):\n",
    "            break\n",
    "    r_c.append(r_p)\n",
    "print(r_c)"
   ]
  },
  {
   "cell_type": "code",
   "execution_count": null,
   "metadata": {},
   "outputs": [],
   "source": []
  }
 ],
 "metadata": {
  "kernelspec": {
   "display_name": "Python 3",
   "language": "python",
   "name": "python3"
  },
  "language_info": {
   "codemirror_mode": {
    "name": "ipython",
    "version": 3
   },
   "file_extension": ".py",
   "mimetype": "text/x-python",
   "name": "python",
   "nbconvert_exporter": "python",
   "pygments_lexer": "ipython3",
   "version": "3.7.6"
  }
 },
 "nbformat": 4,
 "nbformat_minor": 4
}
