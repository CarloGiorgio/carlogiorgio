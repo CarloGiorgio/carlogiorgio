{
  "nbformat": 4,
  "nbformat_minor": 0,
  "metadata": {
    "colab": {
      "name": "Progetto.ipynb",
      "provenance": [],
      "collapsed_sections": [],
      "authorship_tag": "ABX9TyMGw8hKL9ZBUVXu3z7wzWpl",
      "include_colab_link": true
    },
    "kernelspec": {
      "name": "python3",
      "display_name": "Python 3"
    },
    "accelerator": "GPU"
  },
  "cells": [
    {
      "cell_type": "markdown",
      "metadata": {
        "id": "view-in-github",
        "colab_type": "text"
      },
      "source": [
        "<a href=\"https://colab.research.google.com/github/CarloGiorgio/carlogiorgio/blob/master/Progetto/Progetto.ipynb\" target=\"_parent\"><img src=\"https://colab.research.google.com/assets/colab-badge.svg\" alt=\"Open In Colab\"/></a>"
      ]
    },
    {
      "cell_type": "markdown",
      "metadata": {
        "id": "gLtxTYMGexbJ",
        "colab_type": "text"
      },
      "source": [
        "# Gruppo 99\n",
        "Link utili: https://www.dropbox.com/s/grorylbv44zm4na/beta-beta-decay-identification.zip?dl=0 identification.zip?dl=0 (dataset)"
      ]
    },
    {
      "cell_type": "code",
      "metadata": {
        "id": "onZqYS6mehKn",
        "colab_type": "code",
        "outputId": "169143ef-4ee0-42b1-b005-a4c0e297e089",
        "colab": {
          "base_uri": "https://localhost:8080/",
          "height": 32
        }
      },
      "source": [
        "import numpy as np\n",
        "import pandas as pd\n",
        "import tensorflow as tf\n",
        "from tensorflow import keras \n",
        "from tensorflow.keras import layers\n",
        "import matplotlib.pyplot as plt\n",
        "print(tf.__version__)"
      ],
      "execution_count": 38,
      "outputs": [
        {
          "output_type": "stream",
          "text": [
            "2.2.0\n"
          ],
          "name": "stdout"
        }
      ]
    },
    {
      "cell_type": "code",
      "metadata": {
        "id": "Q5J9MFRpf3iv",
        "colab_type": "code",
        "outputId": "660b5d82-afda-491b-9bce-3e38e86b186c",
        "colab": {
          "base_uri": "https://localhost:8080/",
          "height": 547
        }
      },
      "source": [
        "!rm -rf * # warning\n",
        "!wget https://www.dropbox.com/s/grorylbv44zm4na/beta-beta-decay-identification.zip?dl=1 -O archive.zip\n",
        "!unzip archive.zip\n",
        "!7z x beta-beta-decay-identification/data_train.csv.zip -so > data_train.csv\n",
        "!7z x beta-beta-decay-identification/labels_train.csv.zip -so > labels_train.csv\n",
        "!rm -rf __MACOSX beta-beta-decay-identification archive.zip"
      ],
      "execution_count": 3,
      "outputs": [
        {
          "output_type": "stream",
          "text": [
            "--2020-06-10 19:24:04--  https://www.dropbox.com/s/grorylbv44zm4na/beta-beta-decay-identification.zip?dl=1\n",
            "Resolving www.dropbox.com (www.dropbox.com)... 162.125.5.1, 2620:100:601d:1::a27d:501\n",
            "Connecting to www.dropbox.com (www.dropbox.com)|162.125.5.1|:443... connected.\n",
            "HTTP request sent, awaiting response... 301 Moved Permanently\n",
            "Location: /s/dl/grorylbv44zm4na/beta-beta-decay-identification.zip [following]\n",
            "--2020-06-10 19:24:04--  https://www.dropbox.com/s/dl/grorylbv44zm4na/beta-beta-decay-identification.zip\n",
            "Reusing existing connection to www.dropbox.com:443.\n",
            "HTTP request sent, awaiting response... 302 Found\n",
            "Location: https://uc6aa842c71144d4fa63f6025847.dl.dropboxusercontent.com/cd/0/get/A5ZLw3hrNWCAzUfY3J47smDPWulMObKeT-9yssGMOPSI5rJ_o-5W5_FzzFPZkefXmH6OXmcFXS6YhnhAYrvaddvm7AOjQi8pe-z7P1l1mrX711ufnDQcyqVCcjK5cGtU6G8/file?dl=1# [following]\n",
            "--2020-06-10 19:24:05--  https://uc6aa842c71144d4fa63f6025847.dl.dropboxusercontent.com/cd/0/get/A5ZLw3hrNWCAzUfY3J47smDPWulMObKeT-9yssGMOPSI5rJ_o-5W5_FzzFPZkefXmH6OXmcFXS6YhnhAYrvaddvm7AOjQi8pe-z7P1l1mrX711ufnDQcyqVCcjK5cGtU6G8/file?dl=1\n",
            "Resolving uc6aa842c71144d4fa63f6025847.dl.dropboxusercontent.com (uc6aa842c71144d4fa63f6025847.dl.dropboxusercontent.com)... 162.125.5.15, 2620:100:601d:15::a27d:50f\n",
            "Connecting to uc6aa842c71144d4fa63f6025847.dl.dropboxusercontent.com (uc6aa842c71144d4fa63f6025847.dl.dropboxusercontent.com)|162.125.5.15|:443... connected.\n",
            "HTTP request sent, awaiting response... 200 OK\n",
            "Length: 191145855 (182M) [application/binary]\n",
            "Saving to: ‘archive.zip’\n",
            "\n",
            "archive.zip         100%[===================>] 182.29M  59.6MB/s    in 3.1s    \n",
            "\n",
            "2020-06-10 19:24:08 (59.6 MB/s) - ‘archive.zip’ saved [191145855/191145855]\n",
            "\n",
            "Archive:  archive.zip\n",
            "   creating: beta-beta-decay-identification/\n",
            "  inflating: __MACOSX/._beta-beta-decay-identification  \n",
            "  inflating: beta-beta-decay-identification/Utility.ipynb  \n",
            "  inflating: __MACOSX/beta-beta-decay-identification/._Utility.ipynb  \n",
            "  inflating: beta-beta-decay-identification/.DS_Store  \n",
            "  inflating: __MACOSX/beta-beta-decay-identification/._.DS_Store  \n",
            "  inflating: beta-beta-decay-identification/data_train.csv.zip  \n",
            "  inflating: __MACOSX/beta-beta-decay-identification/._data_train.csv.zip  \n",
            "  inflating: beta-beta-decay-identification/labels_train.csv.zip  \n",
            "  inflating: __MACOSX/beta-beta-decay-identification/._labels_train.csv.zip  \n"
          ],
          "name": "stdout"
        }
      ]
    },
    {
      "cell_type": "code",
      "metadata": {
        "id": "bQDtbwp0gbrP",
        "colab_type": "code",
        "colab": {
          "base_uri": "https://localhost:8080/",
          "height": 32
        },
        "outputId": "0fc56744-17de-4c64-8675-0bafcc10f8e9"
      },
      "source": [
        "data=pd.read_csv('data_train.csv')\n",
        "label=pd.read_csv('labels_train.csv')\n",
        "print(data.shape,label.shape)"
      ],
      "execution_count": 4,
      "outputs": [
        {
          "output_type": "stream",
          "text": [
            "(14051774, 4) (80000, 2)\n"
          ],
          "name": "stdout"
        }
      ]
    },
    {
      "cell_type": "code",
      "metadata": {
        "id": "4lm62QS7ZG78",
        "colab_type": "code",
        "colab": {
          "base_uri": "https://localhost:8080/",
          "height": 32
        },
        "outputId": "767bad99-e3b9-4c8d-c774-751dc7451579"
      },
      "source": [
        "data['EventID'].values"
      ],
      "execution_count": 33,
      "outputs": [
        {
          "output_type": "execute_result",
          "data": {
            "text/plain": [
              "array([     0.,      0.,      0., ..., 119998., 119998., 119998.])"
            ]
          },
          "metadata": {
            "tags": []
          },
          "execution_count": 33
        }
      ]
    },
    {
      "cell_type": "code",
      "metadata": {
        "id": "l42YZl2bqX83",
        "colab_type": "code",
        "colab": {}
      },
      "source": [
        "## Funzione creazione immagine\n",
        "## Prende il dataset, lo divide per tipologie di eventi e in seguito conta \n",
        "## il numeor di fotoni che cadono in quell'istogramma rispetto a phi e theta\n",
        "\n",
        "def create_images(data, n_theta_bins=10, n_phi_bins=20, n_time_bins=6):\n",
        "    \n",
        "    images = []\n",
        "    event_indexes = {}\n",
        "    event_ids = np.unique(data['EventID'].values)\n",
        "    \n",
        "    # collect event indexes\n",
        "    data_event_ids = data['EventID'].values\n",
        "    for i in range(len(data)):\n",
        "        i_event = data_event_ids[i]\n",
        "        if i_event in event_indexes:\n",
        "            event_indexes[i_event].append(i)\n",
        "        else:\n",
        "            event_indexes[i_event] = [i]\n",
        "            \n",
        "    # create images\n",
        "    for i_event in event_ids:\n",
        "        event = data.iloc[event_indexes[i_event]]\n",
        "        X = event[['Theta', 'Phi', 'Time']].values\n",
        "        one_image, edges = np.histogramdd(X, bins=(\n",
        "            n_theta_bins, n_phi_bins, n_time_bins))\n",
        "        images.append(one_image)\n",
        "        \n",
        "    return np.array(images)"
      ],
      "execution_count": 0,
      "outputs": []
    },
    {
      "cell_type": "code",
      "metadata": {
        "id": "5xmPCy8WR89f",
        "colab_type": "code",
        "colab": {}
      },
      "source": [
        "images = create_images(data, \n",
        "                       n_theta_bins=10, \n",
        "                       n_phi_bins=20, \n",
        "                       n_time_bins=6)"
      ],
      "execution_count": 0,
      "outputs": []
    },
    {
      "cell_type": "code",
      "metadata": {
        "id": "bTd5CWvlndaG",
        "colab_type": "code",
        "colab": {}
      },
      "source": [
        "ima_re=np.reshape(images,(images.shape[0],10*20*6))"
      ],
      "execution_count": 0,
      "outputs": []
    },
    {
      "cell_type": "code",
      "metadata": {
        "id": "EXN8s4J2ZxOq",
        "colab_type": "code",
        "colab": {}
      },
      "source": [
        "from sklearn.manifold import TSNE\n",
        "from sklearn.decomposition import PCA"
      ],
      "execution_count": 0,
      "outputs": []
    },
    {
      "cell_type": "code",
      "metadata": {
        "id": "7RnjfL4tpFPh",
        "colab_type": "code",
        "colab": {}
      },
      "source": [
        "pca=PCA(50)\n",
        "pca_test=pca.fit_transform(ima_re)\n",
        "tsne=TSNE(2)\n",
        "tsne_test=tsne.fit_transform(pca_test)"
      ],
      "execution_count": 0,
      "outputs": []
    },
    {
      "cell_type": "code",
      "metadata": {
        "id": "07uTDtVIo6jA",
        "colab_type": "code",
        "colab": {}
      },
      "source": [
        "plt.plot(tsne_test[0,:],tsne_test[1,:])"
      ],
      "execution_count": 0,
      "outputs": []
    },
    {
      "cell_type": "code",
      "metadata": {
        "id": "rPyrKwoDUAPe",
        "colab_type": "code",
        "colab": {
          "base_uri": "https://localhost:8080/",
          "height": 32
        },
        "outputId": "1f09843b-38ce-45c6-f08b-a65a5add2adb"
      },
      "source": [
        "IMG=images.shape[1:]\n",
        "IMG"
      ],
      "execution_count": 34,
      "outputs": [
        {
          "output_type": "execute_result",
          "data": {
            "text/plain": [
              "(10, 20, 6)"
            ]
          },
          "metadata": {
            "tags": []
          },
          "execution_count": 34
        }
      ]
    },
    {
      "cell_type": "code",
      "metadata": {
        "id": "nkNNKmjOUF9q",
        "colab_type": "code",
        "colab": {
          "base_uri": "https://localhost:8080/",
          "height": 267
        },
        "outputId": "57916117-79e6-4cf4-9a72-7b44b73e5226"
      },
      "source": [
        "plt.figure()\n",
        "for i in range(6):\n",
        "  plt.subplot(3,2,i+1)\n",
        "  plt.imshow(images[0,:,:,i])\n",
        "  plt.colorbar()"
      ],
      "execution_count": 10,
      "outputs": [
        {
          "output_type": "display_data",
          "data": {
            "image/png": "[encoded data removed]",
            "text/plain": [
              "<Figure size 432x288 with 12 Axes>"
            ]
          },
          "metadata": {
            "tags": [],
            "needs_background": "light"
          }
        }
      ]
    },
    {
      "cell_type": "code",
      "metadata": {
        "id": "PzevOxlN9a5A",
        "colab_type": "code",
        "colab": {
          "base_uri": "https://localhost:8080/",
          "height": 32
        },
        "outputId": "2a039bac-774a-4b78-f4cd-6e43e68ed33c"
      },
      "source": [
        "np.amax(ima_re,axis=0)"
      ],
      "execution_count": 65,
      "outputs": [
        {
          "output_type": "execute_result",
          "data": {
            "text/plain": [
              "array([3., 3., 3., ..., 3., 3., 4.])"
            ]
          },
          "metadata": {
            "tags": []
          },
          "execution_count": 65
        }
      ]
    },
    {
      "cell_type": "code",
      "metadata": {
        "id": "KbLfufOq15Hc",
        "colab_type": "code",
        "colab": {}
      },
      "source": [
        "label['Label'].values.shape"
      ],
      "execution_count": 0,
      "outputs": []
    },
    {
      "cell_type": "code",
      "metadata": {
        "id": "zPmrF94Sw9fy",
        "colab_type": "code",
        "colab": {
          "base_uri": "https://localhost:8080/",
          "height": 229
        },
        "outputId": "2a8af108-b789-4809-f23d-2d613fe87032"
      },
      "source": [
        "plt.figure()\n",
        "plt.imshow(images[40000,:,:,0])\n",
        "plt.colorbar(fraction=0.025, pad=0.04)"
      ],
      "execution_count": 19,
      "outputs": [
        {
          "output_type": "execute_result",
          "data": {
            "text/plain": [
              "<matplotlib.colorbar.Colorbar at 0x7f85ff542550>"
            ]
          },
          "metadata": {
            "tags": []
          },
          "execution_count": 19
        },
        {
          "output_type": "display_data",
          "data": {
            "image/png": "[encoded data removed]",
            "text/plain": [
              "<Figure size 432x288 with 2 Axes>"
            ]
          },
          "metadata": {
            "tags": [],
            "needs_background": "light"
          }
        }
      ]
    },
    {
      "cell_type": "code",
      "metadata": {
        "id": "T1mA-Z6Lg6FA",
        "colab_type": "code",
        "outputId": "ebd28454-a54f-4ac8-c99d-f537ef94a1d2",
        "colab": {
          "base_uri": "https://localhost:8080/",
          "height": 247
        }
      },
      "source": [
        "#c'è ordinamento dei dati\n",
        "print(label.iloc[label.iloc[:,1].values==0])"
      ],
      "execution_count": 4,
      "outputs": [
        {
          "output_type": "stream",
          "text": [
            "        EventID  Label\n",
            "39958   60001.0      0\n",
            "39959   60002.0      0\n",
            "39960   60004.0      0\n",
            "39961   60005.0      0\n",
            "39962   60007.0      0\n",
            "...         ...    ...\n",
            "79995  119993.0      0\n",
            "79996  119994.0      0\n",
            "79997  119996.0      0\n",
            "79998  119997.0      0\n",
            "79999  119998.0      0\n",
            "\n",
            "[40042 rows x 2 columns]\n"
          ],
          "name": "stdout"
        }
      ]
    },
    {
      "cell_type": "code",
      "metadata": {
        "id": "uGtgj2oA-ZYO",
        "colab_type": "code",
        "colab": {
          "base_uri": "https://localhost:8080/",
          "height": 741
        },
        "outputId": "f6738187-6476-41b8-cceb-8449db20d66e"
      },
      "source": [
        "## Modello per l'amico\n",
        "\n",
        "inputs = keras.Input(IMG)\n",
        "x= layers.Conv2D(64, (3, 3), padding='same')(inputs)\n",
        "x = layers.ReLU()(x) #di base ReLU\n",
        "x = layers.MaxPool2D(padding='same')(x)\n",
        "x = layers.Dropout(0.25)(x)\n",
        "\n",
        "x = layers.Conv2D(128,(2,3),padding='same')(x)\n",
        "#x = layers.ReLU()(x)\n",
        "x = layers.MaxPool2D((2,2),strides=(2,2))(x)\n",
        "x = layers.Dropout(0.25)(x)\n",
        "\n",
        "x = layers.Conv2D(256, (2, 2), padding='same')(x)\n",
        "x = layers.ReLU()(x)\n",
        "#x = layers.MaxPool2D((2,2))(x)\n",
        "x= layers.Dropout(0.5)(x)\n",
        "\n",
        "x = layers.Flatten()(x)\n",
        "\n",
        "x = layers.Dense(512)(x)\n",
        "x = layers.ReLU()(x)\n",
        "x = layers.Dropout(0.5)(x)\n",
        "\n",
        "x = layers.Dense(256)(x)\n",
        "x = layers.ReLU()(x)\n",
        "x = layers.Dropout(0.5)(x)\n",
        "\n",
        "outputs = layers.Dense(1,activation='sigmoid')(x)\n",
        "\n",
        "model= keras.Model(inputs=inputs,outputs=outputs)\n",
        "model.summary()"
      ],
      "execution_count": 85,
      "outputs": [
        {
          "output_type": "stream",
          "text": [
            "Model: \"model_16\"\n",
            "_________________________________________________________________\n",
            "Layer (type)                 Output Shape              Param #   \n",
            "=================================================================\n",
            "input_30 (InputLayer)        [(None, 10, 20, 6)]       0         \n",
            "_________________________________________________________________\n",
            "conv2d_36 (Conv2D)           (None, 10, 20, 64)        3520      \n",
            "_________________________________________________________________\n",
            "max_pooling2d_22 (MaxPooling (None, 5, 10, 64)         0         \n",
            "_________________________________________________________________\n",
            "dropout_35 (Dropout)         (None, 5, 10, 64)         0         \n",
            "_________________________________________________________________\n",
            "conv2d_37 (Conv2D)           (None, 5, 10, 128)        49280     \n",
            "_________________________________________________________________\n",
            "max_pooling2d_23 (MaxPooling (None, 2, 5, 128)         0         \n",
            "_________________________________________________________________\n",
            "dropout_36 (Dropout)         (None, 2, 5, 128)         0         \n",
            "_________________________________________________________________\n",
            "conv2d_38 (Conv2D)           (None, 2, 5, 256)         131328    \n",
            "_________________________________________________________________\n",
            "re_lu_53 (ReLU)              (None, 2, 5, 256)         0         \n",
            "_________________________________________________________________\n",
            "dropout_37 (Dropout)         (None, 2, 5, 256)         0         \n",
            "_________________________________________________________________\n",
            "flatten_14 (Flatten)         (None, 2560)              0         \n",
            "_________________________________________________________________\n",
            "dense_42 (Dense)             (None, 512)               1311232   \n",
            "_________________________________________________________________\n",
            "re_lu_54 (ReLU)              (None, 512)               0         \n",
            "_________________________________________________________________\n",
            "dropout_38 (Dropout)         (None, 512)               0         \n",
            "_________________________________________________________________\n",
            "dense_43 (Dense)             (None, 256)               131328    \n",
            "_________________________________________________________________\n",
            "re_lu_55 (ReLU)              (None, 256)               0         \n",
            "_________________________________________________________________\n",
            "dropout_39 (Dropout)         (None, 256)               0         \n",
            "_________________________________________________________________\n",
            "dense_44 (Dense)             (None, 1)                 257       \n",
            "=================================================================\n",
            "Total params: 1,626,945\n",
            "Trainable params: 1,626,945\n",
            "Non-trainable params: 0\n",
            "_________________________________________________________________\n"
          ],
          "name": "stdout"
        }
      ]
    },
    {
      "cell_type": "code",
      "metadata": {
        "id": "iKYBRL1Jyll6",
        "colab_type": "code",
        "colab": {
          "base_uri": "https://localhost:8080/",
          "height": 1000
        },
        "outputId": "8eeb0d59-4210-493d-adc5-dd36c9d08478"
      },
      "source": [
        "model.compile(optimizer='adam',loss='binary_crossentropy',\n",
        "              metrics='acc')\n",
        "call= keras.callbacks.ModelCheckpoint(\n",
        "    'best_w',\n",
        "    monitor='val_acc',\n",
        "    save_nest_only=True,\n",
        "    save_weights_only=True\n",
        ")\n",
        "\n",
        "hystory=model.fit(images,label['Label'].values,batch_size=64,\n",
        "                  epochs=70,validation_split=0.2,callbacks=call)"
      ],
      "execution_count": 86,
      "outputs": [
        {
          "output_type": "stream",
          "text": [
            "Epoch 1/70\n",
            "1000/1000 [==============================] - 6s 6ms/step - loss: 0.5761 - acc: 0.7015 - val_loss: 0.6556 - val_acc: 0.7032\n",
            "Epoch 2/70\n",
            "1000/1000 [==============================] - 5s 5ms/step - loss: 0.5281 - acc: 0.7358 - val_loss: 0.7726 - val_acc: 0.5526\n",
            "Epoch 3/70\n",
            "1000/1000 [==============================] - 5s 5ms/step - loss: 0.5127 - acc: 0.7475 - val_loss: 0.8084 - val_acc: 0.5554\n",
            "Epoch 4/70\n",
            "1000/1000 [==============================] - 5s 5ms/step - loss: 0.5053 - acc: 0.7506 - val_loss: 0.5105 - val_acc: 0.7903\n",
            "Epoch 5/70\n",
            "1000/1000 [==============================] - 5s 5ms/step - loss: 0.5018 - acc: 0.7522 - val_loss: 0.7233 - val_acc: 0.6158\n",
            "Epoch 6/70\n",
            "1000/1000 [==============================] - 5s 5ms/step - loss: 0.4946 - acc: 0.7570 - val_loss: 0.6578 - val_acc: 0.6719\n",
            "Epoch 7/70\n",
            "1000/1000 [==============================] - 5s 5ms/step - loss: 0.4891 - acc: 0.7637 - val_loss: 0.7382 - val_acc: 0.5907\n",
            "Epoch 8/70\n",
            "1000/1000 [==============================] - 5s 5ms/step - loss: 0.4868 - acc: 0.7614 - val_loss: 0.6837 - val_acc: 0.6312\n",
            "Epoch 9/70\n",
            "1000/1000 [==============================] - 5s 5ms/step - loss: 0.4815 - acc: 0.7661 - val_loss: 0.6817 - val_acc: 0.6531\n",
            "Epoch 10/70\n",
            "1000/1000 [==============================] - 5s 5ms/step - loss: 0.4768 - acc: 0.7670 - val_loss: 0.6846 - val_acc: 0.6756\n",
            "Epoch 11/70\n",
            "1000/1000 [==============================] - 5s 5ms/step - loss: 0.4707 - acc: 0.7735 - val_loss: 0.9855 - val_acc: 0.4426\n",
            "Epoch 12/70\n",
            "1000/1000 [==============================] - 5s 5ms/step - loss: 0.4712 - acc: 0.7734 - val_loss: 0.9095 - val_acc: 0.5309\n",
            "Epoch 13/70\n",
            "1000/1000 [==============================] - 5s 5ms/step - loss: 0.4652 - acc: 0.7761 - val_loss: 0.7510 - val_acc: 0.6167\n",
            "Epoch 14/70\n",
            "1000/1000 [==============================] - 5s 5ms/step - loss: 0.4631 - acc: 0.7755 - val_loss: 0.6786 - val_acc: 0.6314\n",
            "Epoch 15/70\n",
            "1000/1000 [==============================] - 5s 5ms/step - loss: 0.4612 - acc: 0.7800 - val_loss: 0.8234 - val_acc: 0.5310\n",
            "Epoch 16/70\n",
            "1000/1000 [==============================] - 6s 6ms/step - loss: 0.4587 - acc: 0.7818 - val_loss: 0.6549 - val_acc: 0.6783\n",
            "Epoch 17/70\n",
            "1000/1000 [==============================] - 5s 5ms/step - loss: 0.4543 - acc: 0.7843 - val_loss: 0.8354 - val_acc: 0.5123\n",
            "Epoch 18/70\n",
            "1000/1000 [==============================] - 5s 5ms/step - loss: 0.4550 - acc: 0.7853 - val_loss: 0.6519 - val_acc: 0.7269\n",
            "Epoch 19/70\n",
            "1000/1000 [==============================] - 5s 5ms/step - loss: 0.4506 - acc: 0.7862 - val_loss: 0.5782 - val_acc: 0.7769\n",
            "Epoch 20/70\n",
            "1000/1000 [==============================] - 5s 5ms/step - loss: 0.4517 - acc: 0.7862 - val_loss: 0.8221 - val_acc: 0.5740\n",
            "Epoch 21/70\n",
            "1000/1000 [==============================] - 5s 5ms/step - loss: 0.4496 - acc: 0.7876 - val_loss: 0.5983 - val_acc: 0.7401\n",
            "Epoch 22/70\n",
            "1000/1000 [==============================] - 5s 5ms/step - loss: 0.4447 - acc: 0.7914 - val_loss: 0.7836 - val_acc: 0.6206\n",
            "Epoch 23/70\n",
            "1000/1000 [==============================] - 5s 5ms/step - loss: 0.4435 - acc: 0.7926 - val_loss: 0.6550 - val_acc: 0.7079\n",
            "Epoch 24/70\n",
            "1000/1000 [==============================] - 5s 5ms/step - loss: 0.4427 - acc: 0.7943 - val_loss: 0.7573 - val_acc: 0.6486\n",
            "Epoch 25/70\n",
            "1000/1000 [==============================] - 5s 5ms/step - loss: 0.4443 - acc: 0.7928 - val_loss: 0.6266 - val_acc: 0.7446\n",
            "Epoch 26/70\n",
            "1000/1000 [==============================] - 5s 5ms/step - loss: 0.4403 - acc: 0.7953 - val_loss: 0.5848 - val_acc: 0.7681\n",
            "Epoch 27/70\n",
            "1000/1000 [==============================] - 5s 5ms/step - loss: 0.4394 - acc: 0.7949 - val_loss: 0.6368 - val_acc: 0.7134\n",
            "Epoch 28/70\n",
            "1000/1000 [==============================] - 5s 5ms/step - loss: 0.4412 - acc: 0.7942 - val_loss: 0.8688 - val_acc: 0.6183\n",
            "Epoch 29/70\n",
            "1000/1000 [==============================] - 5s 5ms/step - loss: 0.4379 - acc: 0.7960 - val_loss: 0.5402 - val_acc: 0.8051\n",
            "Epoch 30/70\n",
            "1000/1000 [==============================] - 5s 5ms/step - loss: 0.4385 - acc: 0.7976 - val_loss: 0.7354 - val_acc: 0.6611\n",
            "Epoch 31/70\n",
            "1000/1000 [==============================] - 5s 5ms/step - loss: 0.4327 - acc: 0.8015 - val_loss: 0.7431 - val_acc: 0.6536\n",
            "Epoch 32/70\n",
            "1000/1000 [==============================] - 5s 5ms/step - loss: 0.4345 - acc: 0.7996 - val_loss: 0.6064 - val_acc: 0.7796\n",
            "Epoch 33/70\n",
            "1000/1000 [==============================] - 5s 5ms/step - loss: 0.4310 - acc: 0.8017 - val_loss: 0.6461 - val_acc: 0.7172\n",
            "Epoch 34/70\n",
            "1000/1000 [==============================] - 5s 5ms/step - loss: 0.4287 - acc: 0.8011 - val_loss: 0.7220 - val_acc: 0.6596\n",
            "Epoch 35/70\n",
            "1000/1000 [==============================] - 5s 5ms/step - loss: 0.4315 - acc: 0.8002 - val_loss: 0.6063 - val_acc: 0.7487\n",
            "Epoch 36/70\n",
            "1000/1000 [==============================] - 5s 5ms/step - loss: 0.4307 - acc: 0.8018 - val_loss: 0.6156 - val_acc: 0.7310\n",
            "Epoch 37/70\n",
            "1000/1000 [==============================] - 5s 5ms/step - loss: 0.4269 - acc: 0.8035 - val_loss: 0.8828 - val_acc: 0.5823\n",
            "Epoch 38/70\n",
            "1000/1000 [==============================] - 5s 5ms/step - loss: 0.4294 - acc: 0.8012 - val_loss: 0.7259 - val_acc: 0.6403\n",
            "Epoch 39/70\n",
            "1000/1000 [==============================] - 5s 5ms/step - loss: 0.4255 - acc: 0.8040 - val_loss: 0.5638 - val_acc: 0.7731\n",
            "Epoch 40/70\n",
            "1000/1000 [==============================] - 5s 5ms/step - loss: 0.4259 - acc: 0.8070 - val_loss: 0.7029 - val_acc: 0.7191\n",
            "Epoch 41/70\n",
            "1000/1000 [==============================] - 5s 5ms/step - loss: 0.4292 - acc: 0.8029 - val_loss: 0.8445 - val_acc: 0.6143\n",
            "Epoch 42/70\n",
            "1000/1000 [==============================] - 5s 5ms/step - loss: 0.4217 - acc: 0.8079 - val_loss: 0.7313 - val_acc: 0.6439\n",
            "Epoch 43/70\n",
            "1000/1000 [==============================] - 5s 5ms/step - loss: 0.4218 - acc: 0.8060 - val_loss: 0.7054 - val_acc: 0.6462\n",
            "Epoch 44/70\n",
            "1000/1000 [==============================] - 5s 5ms/step - loss: 0.4253 - acc: 0.8047 - val_loss: 0.6544 - val_acc: 0.7163\n",
            "Epoch 45/70\n",
            "1000/1000 [==============================] - 5s 5ms/step - loss: 0.4219 - acc: 0.8069 - val_loss: 0.7065 - val_acc: 0.6458\n",
            "Epoch 46/70\n",
            "1000/1000 [==============================] - 5s 5ms/step - loss: 0.4224 - acc: 0.8073 - val_loss: 0.8113 - val_acc: 0.6168\n",
            "Epoch 47/70\n",
            "1000/1000 [==============================] - 5s 5ms/step - loss: 0.4199 - acc: 0.8081 - val_loss: 0.8262 - val_acc: 0.6391\n",
            "Epoch 48/70\n",
            "1000/1000 [==============================] - 5s 5ms/step - loss: 0.4160 - acc: 0.8109 - val_loss: 0.6262 - val_acc: 0.7218\n",
            "Epoch 49/70\n",
            "1000/1000 [==============================] - 5s 5ms/step - loss: 0.4229 - acc: 0.8089 - val_loss: 0.7673 - val_acc: 0.6414\n",
            "Epoch 50/70\n",
            "1000/1000 [==============================] - 5s 5ms/step - loss: 0.4198 - acc: 0.8074 - val_loss: 0.5626 - val_acc: 0.7805\n",
            "Epoch 51/70\n",
            "1000/1000 [==============================] - 5s 5ms/step - loss: 0.4177 - acc: 0.8099 - val_loss: 0.6959 - val_acc: 0.6850\n",
            "Epoch 52/70\n",
            "1000/1000 [==============================] - 5s 5ms/step - loss: 0.4227 - acc: 0.8076 - val_loss: 0.7848 - val_acc: 0.6704\n",
            "Epoch 53/70\n",
            "1000/1000 [==============================] - 5s 5ms/step - loss: 0.4169 - acc: 0.8086 - val_loss: 0.6611 - val_acc: 0.7576\n",
            "Epoch 54/70\n",
            "1000/1000 [==============================] - 5s 5ms/step - loss: 0.4162 - acc: 0.8115 - val_loss: 0.5330 - val_acc: 0.7692\n",
            "Epoch 55/70\n",
            "1000/1000 [==============================] - 6s 6ms/step - loss: 0.4183 - acc: 0.8099 - val_loss: 0.8116 - val_acc: 0.6321\n",
            "Epoch 56/70\n",
            "1000/1000 [==============================] - 5s 5ms/step - loss: 0.4174 - acc: 0.8118 - val_loss: 0.6392 - val_acc: 0.7556\n",
            "Epoch 57/70\n",
            "1000/1000 [==============================] - 5s 5ms/step - loss: 0.4133 - acc: 0.8129 - val_loss: 0.6596 - val_acc: 0.7376\n",
            "Epoch 58/70\n",
            "1000/1000 [==============================] - 5s 5ms/step - loss: 0.4147 - acc: 0.8127 - val_loss: 0.7783 - val_acc: 0.6224\n",
            "Epoch 59/70\n",
            "1000/1000 [==============================] - 5s 5ms/step - loss: 0.4154 - acc: 0.8124 - val_loss: 0.6667 - val_acc: 0.7146\n",
            "Epoch 60/70\n",
            "1000/1000 [==============================] - 5s 5ms/step - loss: 0.4134 - acc: 0.8142 - val_loss: 1.0733 - val_acc: 0.5663\n",
            "Epoch 61/70\n",
            "1000/1000 [==============================] - 5s 5ms/step - loss: 0.4139 - acc: 0.8136 - val_loss: 0.7003 - val_acc: 0.6994\n",
            "Epoch 62/70\n",
            "1000/1000 [==============================] - 5s 5ms/step - loss: 0.4121 - acc: 0.8135 - val_loss: 0.9635 - val_acc: 0.5345\n",
            "Epoch 63/70\n",
            "1000/1000 [==============================] - 5s 5ms/step - loss: 0.4129 - acc: 0.8107 - val_loss: 0.8774 - val_acc: 0.6409\n",
            "Epoch 64/70\n",
            "1000/1000 [==============================] - 5s 5ms/step - loss: 0.4101 - acc: 0.8160 - val_loss: 0.7506 - val_acc: 0.6862\n",
            "Epoch 65/70\n",
            "1000/1000 [==============================] - 5s 5ms/step - loss: 0.4111 - acc: 0.8162 - val_loss: 0.7583 - val_acc: 0.6861\n",
            "Epoch 66/70\n",
            "1000/1000 [==============================] - 5s 5ms/step - loss: 0.4109 - acc: 0.8143 - val_loss: 0.5608 - val_acc: 0.7816\n",
            "Epoch 67/70\n",
            "1000/1000 [==============================] - 5s 5ms/step - loss: 0.4091 - acc: 0.8156 - val_loss: 0.8243 - val_acc: 0.6490\n",
            "Epoch 68/70\n",
            "1000/1000 [==============================] - 6s 6ms/step - loss: 0.4063 - acc: 0.8184 - val_loss: 0.7932 - val_acc: 0.6709\n",
            "Epoch 69/70\n",
            "1000/1000 [==============================] - 5s 5ms/step - loss: 0.4078 - acc: 0.8163 - val_loss: 0.6151 - val_acc: 0.7212\n",
            "Epoch 70/70\n",
            "1000/1000 [==============================] - 5s 5ms/step - loss: 0.4055 - acc: 0.8174 - val_loss: 0.6198 - val_acc: 0.7280\n"
          ],
          "name": "stdout"
        }
      ]
    },
    {
      "cell_type": "code",
      "metadata": {
        "id": "-VP6Ggk-2WOq",
        "colab_type": "code",
        "colab": {}
      },
      "source": [
        ""
      ],
      "execution_count": 0,
      "outputs": []
    }
  ]
}