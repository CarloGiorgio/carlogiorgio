{
  "nbformat": 4,
  "nbformat_minor": 0,
  "metadata": {
    "colab": {
      "name": "Progetto.ipynb",
      "provenance": [],
      "collapsed_sections": [],
      "authorship_tag": "ABX9TyO9YkMAbOgvNq3ktnPsUn0i",
      "include_colab_link": true
    },
    "kernelspec": {
      "name": "python3",
      "display_name": "Python 3"
    },
    "accelerator": "GPU"
  },
  "cells": [
    {
      "cell_type": "markdown",
      "metadata": {
        "id": "view-in-github",
        "colab_type": "text"
      },
      "source": [
        "<a href=\"https://colab.research.google.com/github/CarloGiorgio/carlogiorgio/blob/master/Progetto/Progetto.ipynb\" target=\"_parent\"><img src=\"https://colab.research.google.com/assets/colab-badge.svg\" alt=\"Open In Colab\"/></a>"
      ]
    },
    {
      "cell_type": "markdown",
      "metadata": {
        "id": "gLtxTYMGexbJ",
        "colab_type": "text"
      },
      "source": [
        "# Gruppo 99\n",
        "Link utili: https://www.dropbox.com/s/grorylbv44zm4na/beta-beta-decay-identification.zip?dl=0 (dataset)"
      ]
    },
    {
      "cell_type": "code",
      "metadata": {
        "id": "onZqYS6mehKn",
        "colab_type": "code",
        "outputId": "86040b12-f0d1-4cd0-b044-2acf81bccee5",
        "colab": {
          "base_uri": "https://localhost:8080/",
          "height": 32
        }
      },
      "source": [
        "import numpy as np\n",
        "import pandas as pd\n",
        "import tensorflow as tf\n",
        "from tensorflow import keras \n",
        "from tensorflow.keras import layers\n",
        "import matplotlib.pyplot as plt\n",
        "print(tf.__version__)"
      ],
      "execution_count": 0,
      "outputs": [
        {
          "output_type": "stream",
          "text": [
            "2.2.0\n"
          ],
          "name": "stdout"
        }
      ]
    },
    {
      "cell_type": "code",
      "metadata": {
        "id": "Q5J9MFRpf3iv",
        "colab_type": "code",
        "outputId": "3441e34a-0b9d-411f-da5b-5f3f5037a51a",
        "colab": {
          "base_uri": "https://localhost:8080/",
          "height": 547
        }
      },
      "source": [
        "!rm -rf * # warning\n",
        "!wget https://www.dropbox.com/s/grorylbv44zm4na/beta-beta-decay-identification.zip?dl=1 -O archive.zip\n",
        "!unzip archive.zip\n",
        "!7z x beta-beta-decay-identification/data_train.csv.zip -so > data_train.csv\n",
        "!7z x beta-beta-decay-identification/labels_train.csv.zip -so > labels_train.csv\n",
        "!rm -rf __MACOSX beta-beta-decay-identification archive.zip"
      ],
      "execution_count": 0,
      "outputs": [
        {
          "output_type": "stream",
          "text": [
            "--2020-06-11 10:14:53--  https://www.dropbox.com/s/grorylbv44zm4na/beta-beta-decay-identification.zip?dl=1\n",
            "Resolving www.dropbox.com (www.dropbox.com)... 162.125.65.1, 2620:100:6021:1::a27d:4101\n",
            "Connecting to www.dropbox.com (www.dropbox.com)|162.125.65.1|:443... connected.\n",
            "HTTP request sent, awaiting response... 301 Moved Permanently\n",
            "Location: /s/dl/grorylbv44zm4na/beta-beta-decay-identification.zip [following]\n",
            "--2020-06-11 10:14:53--  https://www.dropbox.com/s/dl/grorylbv44zm4na/beta-beta-decay-identification.zip\n",
            "Reusing existing connection to www.dropbox.com:443.\n",
            "HTTP request sent, awaiting response... 302 Found\n",
            "Location: https://uc32ecbc588fed18c03ace487926.dl.dropboxusercontent.com/cd/0/get/A5dR2XEB3cB5ceI6AJK0pP9063gwQB1VZZckNiYBDS65y14X4XSgXvozbseb4C78IIZCsFul41TT9Q3D9sCtOrVkV8mb6wzcaouP_QheT9kNFcG8FtY8t7urAAKFmHGg_pg/file?dl=1# [following]\n",
            "--2020-06-11 10:14:54--  https://uc32ecbc588fed18c03ace487926.dl.dropboxusercontent.com/cd/0/get/A5dR2XEB3cB5ceI6AJK0pP9063gwQB1VZZckNiYBDS65y14X4XSgXvozbseb4C78IIZCsFul41TT9Q3D9sCtOrVkV8mb6wzcaouP_QheT9kNFcG8FtY8t7urAAKFmHGg_pg/file?dl=1\n",
            "Resolving uc32ecbc588fed18c03ace487926.dl.dropboxusercontent.com (uc32ecbc588fed18c03ace487926.dl.dropboxusercontent.com)... 162.125.65.15, 2620:100:6021:15::a27d:410f\n",
            "Connecting to uc32ecbc588fed18c03ace487926.dl.dropboxusercontent.com (uc32ecbc588fed18c03ace487926.dl.dropboxusercontent.com)|162.125.65.15|:443... connected.\n",
            "HTTP request sent, awaiting response... 200 OK\n",
            "Length: 191145855 (182M) [application/binary]\n",
            "Saving to: ‘archive.zip’\n",
            "\n",
            "archive.zip         100%[===================>] 182.29M  17.6MB/s    in 11s     \n",
            "\n",
            "2020-06-11 10:15:05 (17.3 MB/s) - ‘archive.zip’ saved [191145855/191145855]\n",
            "\n",
            "Archive:  archive.zip\n",
            "   creating: beta-beta-decay-identification/\n",
            "  inflating: __MACOSX/._beta-beta-decay-identification  \n",
            "  inflating: beta-beta-decay-identification/Utility.ipynb  \n",
            "  inflating: __MACOSX/beta-beta-decay-identification/._Utility.ipynb  \n",
            "  inflating: beta-beta-decay-identification/.DS_Store  \n",
            "  inflating: __MACOSX/beta-beta-decay-identification/._.DS_Store  \n",
            "  inflating: beta-beta-decay-identification/data_train.csv.zip  \n",
            "  inflating: __MACOSX/beta-beta-decay-identification/._data_train.csv.zip  \n",
            "  inflating: beta-beta-decay-identification/labels_train.csv.zip  \n",
            "  inflating: __MACOSX/beta-beta-decay-identification/._labels_train.csv.zip  \n"
          ],
          "name": "stdout"
        }
      ]
    },
    {
      "cell_type": "code",
      "metadata": {
        "id": "bQDtbwp0gbrP",
        "colab_type": "code",
        "outputId": "15ddacad-e871-4c1a-8df8-629eeaa5b99c",
        "colab": {
          "base_uri": "https://localhost:8080/",
          "height": 32
        }
      },
      "source": [
        "data=pd.read_csv('data_train.csv')\n",
        "label=pd.read_csv('labels_train.csv')\n",
        "print(data.shape,label.shape)"
      ],
      "execution_count": 0,
      "outputs": [
        {
          "output_type": "stream",
          "text": [
            "(14051774, 4) (80000, 2)\n"
          ],
          "name": "stdout"
        }
      ]
    },
    {
      "cell_type": "code",
      "metadata": {
        "id": "4lm62QS7ZG78",
        "colab_type": "code",
        "outputId": "a7b2696c-3b0a-45d7-ae3a-cbfbbd5bd9e6",
        "colab": {
          "base_uri": "https://localhost:8080/",
          "height": 201
        }
      },
      "source": [
        "data.head()"
      ],
      "execution_count": 0,
      "outputs": [
        {
          "output_type": "execute_result",
          "data": {
            "text/html": [
              "<div>\n",
              "<style scoped>\n",
              "    .dataframe tbody tr th:only-of-type {\n",
              "        vertical-align: middle;\n",
              "    }\n",
              "\n",
              "    .dataframe tbody tr th {\n",
              "        vertical-align: top;\n",
              "    }\n",
              "\n",
              "    .dataframe thead th {\n",
              "        text-align: right;\n",
              "    }\n",
              "</style>\n",
              "<table border=\"1\" class=\"dataframe\">\n",
              "  <thead>\n",
              "    <tr style=\"text-align: right;\">\n",
              "      <th></th>\n",
              "      <th>EventID</th>\n",
              "      <th>Theta</th>\n",
              "      <th>Phi</th>\n",
              "      <th>Time</th>\n",
              "    </tr>\n",
              "  </thead>\n",
              "  <tbody>\n",
              "    <tr>\n",
              "      <th>0</th>\n",
              "      <td>0.0</td>\n",
              "      <td>0.579059</td>\n",
              "      <td>6.127253</td>\n",
              "      <td>1.899265</td>\n",
              "    </tr>\n",
              "    <tr>\n",
              "      <th>1</th>\n",
              "      <td>0.0</td>\n",
              "      <td>0.474867</td>\n",
              "      <td>4.257784</td>\n",
              "      <td>0.513214</td>\n",
              "    </tr>\n",
              "    <tr>\n",
              "      <th>2</th>\n",
              "      <td>0.0</td>\n",
              "      <td>1.559526</td>\n",
              "      <td>3.268345</td>\n",
              "      <td>1.542545</td>\n",
              "    </tr>\n",
              "    <tr>\n",
              "      <th>3</th>\n",
              "      <td>0.0</td>\n",
              "      <td>1.692516</td>\n",
              "      <td>0.335438</td>\n",
              "      <td>1.794285</td>\n",
              "    </tr>\n",
              "    <tr>\n",
              "      <th>4</th>\n",
              "      <td>0.0</td>\n",
              "      <td>1.246705</td>\n",
              "      <td>3.829806</td>\n",
              "      <td>2.021858</td>\n",
              "    </tr>\n",
              "  </tbody>\n",
              "</table>\n",
              "</div>"
            ],
            "text/plain": [
              "   EventID     Theta       Phi      Time\n",
              "0      0.0  0.579059  6.127253  1.899265\n",
              "1      0.0  0.474867  4.257784  0.513214\n",
              "2      0.0  1.559526  3.268345  1.542545\n",
              "3      0.0  1.692516  0.335438  1.794285\n",
              "4      0.0  1.246705  3.829806  2.021858"
            ]
          },
          "metadata": {
            "tags": []
          },
          "execution_count": 5
        }
      ]
    },
    {
      "cell_type": "code",
      "metadata": {
        "id": "IdjvimSt4EPi",
        "colab_type": "code",
        "outputId": "5d1111e3-825f-41b4-e576-a06fe9e77742",
        "colab": {
          "base_uri": "https://localhost:8080/",
          "height": 201
        }
      },
      "source": [
        "label.head()"
      ],
      "execution_count": 0,
      "outputs": [
        {
          "output_type": "execute_result",
          "data": {
            "text/html": [
              "<div>\n",
              "<style scoped>\n",
              "    .dataframe tbody tr th:only-of-type {\n",
              "        vertical-align: middle;\n",
              "    }\n",
              "\n",
              "    .dataframe tbody tr th {\n",
              "        vertical-align: top;\n",
              "    }\n",
              "\n",
              "    .dataframe thead th {\n",
              "        text-align: right;\n",
              "    }\n",
              "</style>\n",
              "<table border=\"1\" class=\"dataframe\">\n",
              "  <thead>\n",
              "    <tr style=\"text-align: right;\">\n",
              "      <th></th>\n",
              "      <th>EventID</th>\n",
              "      <th>Label</th>\n",
              "    </tr>\n",
              "  </thead>\n",
              "  <tbody>\n",
              "    <tr>\n",
              "      <th>0</th>\n",
              "      <td>0.0</td>\n",
              "      <td>1</td>\n",
              "    </tr>\n",
              "    <tr>\n",
              "      <th>1</th>\n",
              "      <td>1.0</td>\n",
              "      <td>1</td>\n",
              "    </tr>\n",
              "    <tr>\n",
              "      <th>2</th>\n",
              "      <td>3.0</td>\n",
              "      <td>1</td>\n",
              "    </tr>\n",
              "    <tr>\n",
              "      <th>3</th>\n",
              "      <td>5.0</td>\n",
              "      <td>1</td>\n",
              "    </tr>\n",
              "    <tr>\n",
              "      <th>4</th>\n",
              "      <td>8.0</td>\n",
              "      <td>1</td>\n",
              "    </tr>\n",
              "  </tbody>\n",
              "</table>\n",
              "</div>"
            ],
            "text/plain": [
              "   EventID  Label\n",
              "0      0.0      1\n",
              "1      1.0      1\n",
              "2      3.0      1\n",
              "3      5.0      1\n",
              "4      8.0      1"
            ]
          },
          "metadata": {
            "tags": []
          },
          "execution_count": 6
        }
      ]
    },
    {
      "cell_type": "code",
      "metadata": {
        "id": "l42YZl2bqX83",
        "colab_type": "code",
        "colab": {}
      },
      "source": [
        "## Funzione creazione immagine\n",
        "## Prende il dataset, lo divide per tipologie di eventi e in seguito conta \n",
        "## il numeor di fotoni che cadono in quell'istogramma rispetto a phi e theta\n",
        "\n",
        "def create_images(data, n_theta_bins=10, n_phi_bins=20, n_time_bins=6):\n",
        "    \n",
        "    images = []\n",
        "    event_indexes = {}\n",
        "    event_ids = np.unique(data['EventID'].values)\n",
        "    \n",
        "    # collect event indexes\n",
        "    data_event_ids = data['EventID'].values\n",
        "    for i in range(len(data)):\n",
        "        i_event = data_event_ids[i]\n",
        "        if i_event in event_indexes:\n",
        "            event_indexes[i_event].append(i)\n",
        "        else:\n",
        "            event_indexes[i_event] = [i]\n",
        "            \n",
        "    # create images\n",
        "    for i_event in event_ids:\n",
        "        event = data.iloc[event_indexes[i_event]]\n",
        "        X = event[['Theta', 'Phi', 'Time']].values\n",
        "        one_image, edges = np.histogramdd(X, bins=(\n",
        "            n_theta_bins, n_phi_bins, n_time_bins))\n",
        "        images.append(one_image)\n",
        "        \n",
        "    return np.array(images)"
      ],
      "execution_count": 0,
      "outputs": []
    },
    {
      "cell_type": "code",
      "metadata": {
        "id": "5xmPCy8WR89f",
        "colab_type": "code",
        "colab": {}
      },
      "source": [
        "images = create_images(data, \n",
        "                       n_theta_bins=10, \n",
        "                       n_phi_bins=20, \n",
        "                       n_time_bins=6)"
      ],
      "execution_count": 0,
      "outputs": []
    },
    {
      "cell_type": "code",
      "metadata": {
        "id": "1Ajen8sj4Op2",
        "colab_type": "code",
        "colab": {}
      },
      "source": [
        "ima_re=np.loadtxt('image.txt')"
      ],
      "execution_count": 0,
      "outputs": []
    },
    {
      "cell_type": "code",
      "metadata": {
        "id": "bTd5CWvlndaG",
        "colab_type": "code",
        "colab": {}
      },
      "source": [
        "ima_re=np.reshape(images,(images.shape[0],10*20*6))"
      ],
      "execution_count": 0,
      "outputs": []
    },
    {
      "cell_type": "code",
      "metadata": {
        "id": "CpHF1UUH4gf9",
        "colab_type": "code",
        "colab": {}
      },
      "source": [
        "np.savetxt('image.txt',ima_re)"
      ],
      "execution_count": 0,
      "outputs": []
    },
    {
      "cell_type": "code",
      "metadata": {
        "id": "EXN8s4J2ZxOq",
        "colab_type": "code",
        "colab": {}
      },
      "source": [
        "from sklearn.manifold import TSNE\n",
        "from sklearn.decomposition import PCA"
      ],
      "execution_count": 0,
      "outputs": []
    },
    {
      "cell_type": "code",
      "metadata": {
        "id": "7RnjfL4tpFPh",
        "colab_type": "code",
        "colab": {}
      },
      "source": [
        "pca=PCA(50)\n",
        "pca_test=pca.fit_transform(ima_re)\n",
        "tsne=TSNE(2)\n",
        "tsne_test=tsne.fit_transform(pca_test)"
      ],
      "execution_count": 0,
      "outputs": []
    },
    {
      "cell_type": "code",
      "metadata": {
        "id": "07uTDtVIo6jA",
        "colab_type": "code",
        "colab": {}
      },
      "source": [
        "plt.plot(tsne_test[0,:],tsne_test[1,:])"
      ],
      "execution_count": 0,
      "outputs": []
    },
    {
      "cell_type": "code",
      "metadata": {
        "id": "rPyrKwoDUAPe",
        "colab_type": "code",
        "outputId": "b9dd8a1e-c617-4650-f6d3-b9adc924f7d0",
        "colab": {
          "base_uri": "https://localhost:8080/",
          "height": 32
        }
      },
      "source": [
        "IMG=images.shape[1:]\n",
        "IMG"
      ],
      "execution_count": 0,
      "outputs": [
        {
          "output_type": "execute_result",
          "data": {
            "text/plain": [
              "(10, 20, 6)"
            ]
          },
          "metadata": {
            "tags": []
          },
          "execution_count": 16
        }
      ]
    },
    {
      "cell_type": "code",
      "metadata": {
        "id": "nkNNKmjOUF9q",
        "colab_type": "code",
        "outputId": "53d56334-3765-4522-ee10-4d516bab03e6",
        "colab": {
          "base_uri": "https://localhost:8080/",
          "height": 267
        }
      },
      "source": [
        "plt.figure()\n",
        "for i in range(6):\n",
        "  plt.subplot(3,2,i+1)\n",
        "  plt.imshow(images[0,:,:,i])\n",
        "  plt.colorbar()"
      ],
      "execution_count": 0,
      "outputs": [
        {
          "output_type": "display_data",
          "data": {
            "image/png": "[encoded data removed]",
            "text/plain": [
              "<Figure size 432x288 with 12 Axes>"
            ]
          },
          "metadata": {
            "tags": [],
            "needs_background": "light"
          }
        }
      ]
    },
    {
      "cell_type": "code",
      "metadata": {
        "id": "PzevOxlN9a5A",
        "colab_type": "code",
        "outputId": "2c847ed5-680d-41a8-b47d-7aada35786a4",
        "colab": {
          "base_uri": "https://localhost:8080/",
          "height": 32
        }
      },
      "source": [
        "np.amax(ima_re)"
      ],
      "execution_count": 0,
      "outputs": [
        {
          "output_type": "execute_result",
          "data": {
            "text/plain": [
              "7.0"
            ]
          },
          "metadata": {
            "tags": []
          },
          "execution_count": 20
        }
      ]
    },
    {
      "cell_type": "code",
      "metadata": {
        "id": "KbLfufOq15Hc",
        "colab_type": "code",
        "outputId": "03939f58-bd56-4ff4-b038-f5de22bd4bc0",
        "colab": {
          "base_uri": "https://localhost:8080/",
          "height": 32
        }
      },
      "source": [
        "label['Label'].values.shape"
      ],
      "execution_count": 0,
      "outputs": [
        {
          "output_type": "execute_result",
          "data": {
            "text/plain": [
              "(80000,)"
            ]
          },
          "metadata": {
            "tags": []
          },
          "execution_count": 21
        }
      ]
    },
    {
      "cell_type": "code",
      "metadata": {
        "id": "zPmrF94Sw9fy",
        "colab_type": "code",
        "outputId": "08068a3c-8226-4baa-ae96-5153b1ad78fc",
        "colab": {
          "base_uri": "https://localhost:8080/",
          "height": 229
        }
      },
      "source": [
        "plt.figure()\n",
        "plt.imshow(images[40000,:,:,0])\n",
        "plt.colorbar(fraction=0.025, pad=0.04)"
      ],
      "execution_count": 0,
      "outputs": [
        {
          "output_type": "execute_result",
          "data": {
            "text/plain": [
              "<matplotlib.colorbar.Colorbar at 0x7f7842432eb8>"
            ]
          },
          "metadata": {
            "tags": []
          },
          "execution_count": 22
        },
        {
          "output_type": "display_data",
          "data": {
            "image/png": "[encoded data removed]",
            "text/plain": [
              "<Figure size 432x288 with 2 Axes>"
            ]
          },
          "metadata": {
            "tags": [],
            "needs_background": "light"
          }
        }
      ]
    },
    {
      "cell_type": "code",
      "metadata": {
        "id": "T1mA-Z6Lg6FA",
        "colab_type": "code",
        "outputId": "c37e0a09-f9a0-4ec8-efd6-4bda7746530b",
        "colab": {
          "base_uri": "https://localhost:8080/",
          "height": 247
        }
      },
      "source": [
        "#c'è ordinamento dei dati\n",
        "print(label.iloc[label.iloc[:,1].values==0])"
      ],
      "execution_count": 0,
      "outputs": [
        {
          "output_type": "stream",
          "text": [
            "        EventID  Label\n",
            "39958   60001.0      0\n",
            "39959   60002.0      0\n",
            "39960   60004.0      0\n",
            "39961   60005.0      0\n",
            "39962   60007.0      0\n",
            "...         ...    ...\n",
            "79995  119993.0      0\n",
            "79996  119994.0      0\n",
            "79997  119996.0      0\n",
            "79998  119997.0      0\n",
            "79999  119998.0      0\n",
            "\n",
            "[40042 rows x 2 columns]\n"
          ],
          "name": "stdout"
        }
      ]
    },
    {
      "cell_type": "code",
      "metadata": {
        "id": "uGtgj2oA-ZYO",
        "colab_type": "code",
        "outputId": "6d67ec55-822c-4365-8039-953f5393e59d",
        "colab": {
          "base_uri": "https://localhost:8080/",
          "height": 741
        }
      },
      "source": [
        "## Modello per l'amico\n",
        "\n",
        "inputs = keras.Input(IMG)\n",
        "x= layers.Conv2D(64, (3, 3), padding='same')(inputs)\n",
        "x = layers.ReLU()(x) #di base ReLU\n",
        "x = layers.MaxPool2D(padding='same')(x)\n",
        "x = layers.Dropout(0.25)(x)\n",
        "\n",
        "x = layers.Conv2D(128,(2,3),padding='same')(x)\n",
        "#x = layers.ReLU()(x)\n",
        "x = layers.MaxPool2D((2,2),strides=(2,2))(x)\n",
        "x = layers.Dropout(0.25)(x)\n",
        "\n",
        "x = layers.Conv2D(256, (2, 2), padding='same')(x)\n",
        "x = layers.ReLU()(x)\n",
        "#x = layers.MaxPool2D((2,2))(x)\n",
        "x= layers.Dropout(0.5)(x)\n",
        "\n",
        "x = layers.Flatten()(x)\n",
        "\n",
        "x = layers.Dense(512)(x)\n",
        "x = layers.ReLU()(x)\n",
        "x = layers.Dropout(0.5)(x)\n",
        "\n",
        "x = layers.Dense(256)(x)\n",
        "x = layers.ReLU()(x)\n",
        "x = layers.Dropout(0.5)(x)\n",
        "\n",
        "outputs = layers.Dense(1,activation='sigmoid')(x)\n",
        "\n",
        "model= keras.Model(inputs=inputs,outputs=outputs)\n",
        "model.summary()"
      ],
      "execution_count": 0,
      "outputs": [
        {
          "output_type": "stream",
          "text": [
            "Model: \"model_2\"\n",
            "_________________________________________________________________\n",
            "Layer (type)                 Output Shape              Param #   \n",
            "=================================================================\n",
            "input_3 (InputLayer)         [(None, 10, 20, 6)]       0         \n",
            "_________________________________________________________________\n",
            "conv2d_6 (Conv2D)            (None, 10, 20, 64)        3520      \n",
            "_________________________________________________________________\n",
            "re_lu_8 (ReLU)               (None, 10, 20, 64)        0         \n",
            "_________________________________________________________________\n",
            "max_pooling2d_5 (MaxPooling2 (None, 5, 10, 64)         0         \n",
            "_________________________________________________________________\n",
            "dropout_10 (Dropout)         (None, 5, 10, 64)         0         \n",
            "_________________________________________________________________\n",
            "conv2d_7 (Conv2D)            (None, 5, 10, 128)        49280     \n",
            "_________________________________________________________________\n",
            "max_pooling2d_6 (MaxPooling2 (None, 2, 5, 128)         0         \n",
            "_________________________________________________________________\n",
            "dropout_11 (Dropout)         (None, 2, 5, 128)         0         \n",
            "_________________________________________________________________\n",
            "conv2d_8 (Conv2D)            (None, 2, 5, 256)         131328    \n",
            "_________________________________________________________________\n",
            "dropout_12 (Dropout)         (None, 2, 5, 256)         0         \n",
            "_________________________________________________________________\n",
            "flatten_2 (Flatten)          (None, 2560)              0         \n",
            "_________________________________________________________________\n",
            "dense_6 (Dense)              (None, 512)               1311232   \n",
            "_________________________________________________________________\n",
            "re_lu_9 (ReLU)               (None, 512)               0         \n",
            "_________________________________________________________________\n",
            "dropout_13 (Dropout)         (None, 512)               0         \n",
            "_________________________________________________________________\n",
            "dense_7 (Dense)              (None, 256)               131328    \n",
            "_________________________________________________________________\n",
            "re_lu_10 (ReLU)              (None, 256)               0         \n",
            "_________________________________________________________________\n",
            "dropout_14 (Dropout)         (None, 256)               0         \n",
            "_________________________________________________________________\n",
            "dense_8 (Dense)              (None, 1)                 257       \n",
            "=================================================================\n",
            "Total params: 1,626,945\n",
            "Trainable params: 1,626,945\n",
            "Non-trainable params: 0\n",
            "_________________________________________________________________\n"
          ],
          "name": "stdout"
        }
      ]
    },
    {
      "cell_type": "code",
      "metadata": {
        "id": "iKYBRL1Jyll6",
        "colab_type": "code",
        "outputId": "5536f449-90de-4eb7-d45d-344834b4bcbc",
        "colab": {
          "base_uri": "https://localhost:8080/",
          "height": 1000
        }
      },
      "source": [
        "AUC=keras.metrics.AUC(name='auc')\n",
        "\n",
        "model.compile(optimizer='adam',loss='binary_crossentropy',\n",
        "              metrics=[AUC,'acc'])\n",
        "\n",
        "call= keras.callbacks.ModelCheckpoint(\n",
        "    'best_w',\n",
        "    monitor='val_auc',\n",
        "    save_nest_only=True,\n",
        "    save_weights_only=True\n",
        ")\n",
        "\n",
        "hystory=model.fit(images,label['Label'].values,batch_size=64*2,\n",
        "                  epochs=70,validation_split=0.2,callbacks=call)"
      ],
      "execution_count": 0,
      "outputs": [
        {
          "output_type": "stream",
          "text": [
            "Epoch 1/70\n",
            "500/500 [==============================] - 3s 6ms/step - loss: 0.5981 - auc: 0.7057 - acc: 0.6821 - val_loss: 0.8586 - val_auc: 0.0000e+00 - val_acc: 0.4725\n",
            "Epoch 2/70\n",
            "500/500 [==============================] - 3s 6ms/step - loss: 0.5288 - auc: 0.7952 - acc: 0.7361 - val_loss: 0.7220 - val_auc: 0.0000e+00 - val_acc: 0.5962\n",
            "Epoch 3/70\n",
            "500/500 [==============================] - 3s 6ms/step - loss: 0.5080 - auc: 0.8147 - acc: 0.7494 - val_loss: 0.4905 - val_auc: 0.0000e+00 - val_acc: 0.7897\n",
            "Epoch 4/70\n",
            "500/500 [==============================] - 3s 6ms/step - loss: 0.4990 - auc: 0.8232 - acc: 0.7578 - val_loss: 0.5344 - val_auc: 0.0000e+00 - val_acc: 0.7936\n",
            "Epoch 5/70\n",
            "500/500 [==============================] - 3s 6ms/step - loss: 0.4914 - auc: 0.8294 - acc: 0.7612 - val_loss: 0.5802 - val_auc: 0.0000e+00 - val_acc: 0.7290\n",
            "Epoch 6/70\n",
            "500/500 [==============================] - 3s 6ms/step - loss: 0.4835 - auc: 0.8356 - acc: 0.7655 - val_loss: 0.5653 - val_auc: 0.0000e+00 - val_acc: 0.7289\n",
            "Epoch 7/70\n",
            "500/500 [==============================] - 3s 6ms/step - loss: 0.4785 - auc: 0.8398 - acc: 0.7680 - val_loss: 0.6414 - val_auc: 0.0000e+00 - val_acc: 0.6578\n",
            "Epoch 8/70\n",
            "500/500 [==============================] - 3s 6ms/step - loss: 0.4721 - auc: 0.8448 - acc: 0.7732 - val_loss: 0.6861 - val_auc: 0.0000e+00 - val_acc: 0.6539\n",
            "Epoch 9/70\n",
            "500/500 [==============================] - 3s 6ms/step - loss: 0.4731 - auc: 0.8441 - acc: 0.7734 - val_loss: 0.6364 - val_auc: 0.0000e+00 - val_acc: 0.6869\n",
            "Epoch 10/70\n",
            "500/500 [==============================] - 3s 6ms/step - loss: 0.4634 - auc: 0.8511 - acc: 0.7782 - val_loss: 0.5560 - val_auc: 0.0000e+00 - val_acc: 0.7339\n",
            "Epoch 11/70\n",
            "500/500 [==============================] - 3s 6ms/step - loss: 0.4581 - auc: 0.8544 - acc: 0.7796 - val_loss: 0.7338 - val_auc: 0.0000e+00 - val_acc: 0.6234\n",
            "Epoch 12/70\n",
            "500/500 [==============================] - 3s 6ms/step - loss: 0.4523 - auc: 0.8592 - acc: 0.7854 - val_loss: 0.8218 - val_auc: 0.0000e+00 - val_acc: 0.5128\n",
            "Epoch 13/70\n",
            "500/500 [==============================] - 3s 6ms/step - loss: 0.4494 - auc: 0.8608 - acc: 0.7855 - val_loss: 0.5804 - val_auc: 0.0000e+00 - val_acc: 0.7438\n",
            "Epoch 14/70\n",
            "500/500 [==============================] - 3s 6ms/step - loss: 0.4440 - auc: 0.8650 - acc: 0.7904 - val_loss: 0.5481 - val_auc: 0.0000e+00 - val_acc: 0.7653\n",
            "Epoch 15/70\n",
            "500/500 [==============================] - 3s 6ms/step - loss: 0.4384 - auc: 0.8684 - acc: 0.7935 - val_loss: 0.7313 - val_auc: 0.0000e+00 - val_acc: 0.6535\n",
            "Epoch 16/70\n",
            "500/500 [==============================] - 3s 6ms/step - loss: 0.4323 - auc: 0.8724 - acc: 0.7958 - val_loss: 0.5470 - val_auc: 0.0000e+00 - val_acc: 0.7759\n",
            "Epoch 17/70\n",
            "500/500 [==============================] - 3s 6ms/step - loss: 0.4308 - auc: 0.8736 - acc: 0.7967 - val_loss: 0.5877 - val_auc: 0.0000e+00 - val_acc: 0.7487\n",
            "Epoch 18/70\n",
            "500/500 [==============================] - 3s 6ms/step - loss: 0.4286 - auc: 0.8752 - acc: 0.7996 - val_loss: 0.6822 - val_auc: 0.0000e+00 - val_acc: 0.6805\n",
            "Epoch 19/70\n",
            "500/500 [==============================] - 3s 6ms/step - loss: 0.4251 - auc: 0.8776 - acc: 0.8021 - val_loss: 0.6241 - val_auc: 0.0000e+00 - val_acc: 0.7517\n",
            "Epoch 20/70\n",
            "500/500 [==============================] - 3s 6ms/step - loss: 0.4219 - auc: 0.8789 - acc: 0.8022 - val_loss: 0.5465 - val_auc: 0.0000e+00 - val_acc: 0.7622\n",
            "Epoch 21/70\n",
            "500/500 [==============================] - 3s 6ms/step - loss: 0.4184 - auc: 0.8824 - acc: 0.8064 - val_loss: 0.6730 - val_auc: 0.0000e+00 - val_acc: 0.6631\n",
            "Epoch 22/70\n",
            "500/500 [==============================] - 3s 6ms/step - loss: 0.4131 - auc: 0.8852 - acc: 0.8085 - val_loss: 0.7518 - val_auc: 0.0000e+00 - val_acc: 0.6702\n",
            "Epoch 23/70\n",
            "500/500 [==============================] - 3s 6ms/step - loss: 0.4105 - auc: 0.8866 - acc: 0.8107 - val_loss: 0.5411 - val_auc: 0.0000e+00 - val_acc: 0.7785\n",
            "Epoch 24/70\n",
            "500/500 [==============================] - 3s 6ms/step - loss: 0.4100 - auc: 0.8873 - acc: 0.8109 - val_loss: 0.5992 - val_auc: 0.0000e+00 - val_acc: 0.7308\n",
            "Epoch 25/70\n",
            "500/500 [==============================] - 3s 6ms/step - loss: 0.4092 - auc: 0.8879 - acc: 0.8119 - val_loss: 0.5656 - val_auc: 0.0000e+00 - val_acc: 0.7300\n",
            "Epoch 26/70\n",
            "500/500 [==============================] - 3s 6ms/step - loss: 0.4077 - auc: 0.8890 - acc: 0.8127 - val_loss: 0.6050 - val_auc: 0.0000e+00 - val_acc: 0.7481\n",
            "Epoch 27/70\n",
            "500/500 [==============================] - 3s 6ms/step - loss: 0.4034 - auc: 0.8908 - acc: 0.8137 - val_loss: 0.6525 - val_auc: 0.0000e+00 - val_acc: 0.7056\n",
            "Epoch 28/70\n",
            "500/500 [==============================] - 3s 6ms/step - loss: 0.3987 - auc: 0.8934 - acc: 0.8152 - val_loss: 0.6086 - val_auc: 0.0000e+00 - val_acc: 0.6954\n",
            "Epoch 29/70\n",
            "500/500 [==============================] - 3s 6ms/step - loss: 0.3994 - auc: 0.8939 - acc: 0.8178 - val_loss: 0.6591 - val_auc: 0.0000e+00 - val_acc: 0.6676\n",
            "Epoch 30/70\n",
            "500/500 [==============================] - 3s 6ms/step - loss: 0.3977 - auc: 0.8947 - acc: 0.8171 - val_loss: 0.6210 - val_auc: 0.0000e+00 - val_acc: 0.7154\n",
            "Epoch 31/70\n",
            "500/500 [==============================] - 3s 6ms/step - loss: 0.3964 - auc: 0.8956 - acc: 0.8180 - val_loss: 0.4872 - val_auc: 0.0000e+00 - val_acc: 0.7912\n",
            "Epoch 32/70\n",
            "500/500 [==============================] - 3s 6ms/step - loss: 0.3955 - auc: 0.8958 - acc: 0.8183 - val_loss: 0.7373 - val_auc: 0.0000e+00 - val_acc: 0.6456\n",
            "Epoch 33/70\n",
            "500/500 [==============================] - 3s 6ms/step - loss: 0.3908 - auc: 0.8988 - acc: 0.8229 - val_loss: 0.5497 - val_auc: 0.0000e+00 - val_acc: 0.7489\n",
            "Epoch 34/70\n",
            "500/500 [==============================] - 3s 6ms/step - loss: 0.3895 - auc: 0.8989 - acc: 0.8204 - val_loss: 0.6755 - val_auc: 0.0000e+00 - val_acc: 0.6550\n",
            "Epoch 35/70\n",
            "500/500 [==============================] - 3s 6ms/step - loss: 0.3878 - auc: 0.9007 - acc: 0.8260 - val_loss: 0.6371 - val_auc: 0.0000e+00 - val_acc: 0.6904\n",
            "Epoch 36/70\n",
            "500/500 [==============================] - 3s 6ms/step - loss: 0.3878 - auc: 0.8999 - acc: 0.8228 - val_loss: 0.5911 - val_auc: 0.0000e+00 - val_acc: 0.7363\n",
            "Epoch 37/70\n",
            "500/500 [==============================] - 3s 6ms/step - loss: 0.3882 - auc: 0.9007 - acc: 0.8248 - val_loss: 0.6716 - val_auc: 0.0000e+00 - val_acc: 0.6667\n",
            "Epoch 38/70\n",
            "500/500 [==============================] - 3s 6ms/step - loss: 0.3891 - auc: 0.8995 - acc: 0.8215 - val_loss: 0.6389 - val_auc: 0.0000e+00 - val_acc: 0.6802\n",
            "Epoch 39/70\n",
            "500/500 [==============================] - 3s 6ms/step - loss: 0.3817 - auc: 0.9037 - acc: 0.8273 - val_loss: 0.5227 - val_auc: 0.0000e+00 - val_acc: 0.7569\n",
            "Epoch 40/70\n",
            "500/500 [==============================] - 3s 6ms/step - loss: 0.3835 - auc: 0.9034 - acc: 0.8259 - val_loss: 0.6760 - val_auc: 0.0000e+00 - val_acc: 0.6906\n",
            "Epoch 41/70\n",
            "500/500 [==============================] - 3s 6ms/step - loss: 0.3838 - auc: 0.9029 - acc: 0.8281 - val_loss: 0.7205 - val_auc: 0.0000e+00 - val_acc: 0.5876\n",
            "Epoch 42/70\n",
            "500/500 [==============================] - 3s 6ms/step - loss: 0.3805 - auc: 0.9043 - acc: 0.8281 - val_loss: 0.6581 - val_auc: 0.0000e+00 - val_acc: 0.6923\n",
            "Epoch 43/70\n",
            "500/500 [==============================] - 3s 6ms/step - loss: 0.3817 - auc: 0.9043 - acc: 0.8289 - val_loss: 0.6813 - val_auc: 0.0000e+00 - val_acc: 0.6723\n",
            "Epoch 44/70\n",
            "500/500 [==============================] - 3s 6ms/step - loss: 0.3803 - auc: 0.9051 - acc: 0.8297 - val_loss: 0.5081 - val_auc: 0.0000e+00 - val_acc: 0.7699\n",
            "Epoch 45/70\n",
            "500/500 [==============================] - 3s 6ms/step - loss: 0.3786 - auc: 0.9058 - acc: 0.8303 - val_loss: 0.5623 - val_auc: 0.0000e+00 - val_acc: 0.7372\n",
            "Epoch 46/70\n",
            "500/500 [==============================] - 3s 6ms/step - loss: 0.3741 - auc: 0.9083 - acc: 0.8342 - val_loss: 0.7645 - val_auc: 0.0000e+00 - val_acc: 0.5871\n",
            "Epoch 47/70\n",
            "500/500 [==============================] - 3s 6ms/step - loss: 0.3761 - auc: 0.9071 - acc: 0.8315 - val_loss: 0.6469 - val_auc: 0.0000e+00 - val_acc: 0.6662\n",
            "Epoch 48/70\n",
            "500/500 [==============================] - 3s 6ms/step - loss: 0.3778 - auc: 0.9062 - acc: 0.8305 - val_loss: 0.9061 - val_auc: 0.0000e+00 - val_acc: 0.5376\n",
            "Epoch 49/70\n",
            "500/500 [==============================] - 3s 6ms/step - loss: 0.3762 - auc: 0.9074 - acc: 0.8315 - val_loss: 0.5473 - val_auc: 0.0000e+00 - val_acc: 0.7424\n",
            "Epoch 50/70\n",
            "500/500 [==============================] - 3s 6ms/step - loss: 0.3734 - auc: 0.9085 - acc: 0.8319 - val_loss: 0.7476 - val_auc: 0.0000e+00 - val_acc: 0.6300\n",
            "Epoch 51/70\n",
            "500/500 [==============================] - 3s 6ms/step - loss: 0.3734 - auc: 0.9090 - acc: 0.8349 - val_loss: 0.6416 - val_auc: 0.0000e+00 - val_acc: 0.6825\n",
            "Epoch 52/70\n",
            "500/500 [==============================] - 3s 6ms/step - loss: 0.3678 - auc: 0.9111 - acc: 0.8332 - val_loss: 0.5912 - val_auc: 0.0000e+00 - val_acc: 0.7077\n",
            "Epoch 53/70\n",
            "500/500 [==============================] - 3s 6ms/step - loss: 0.3681 - auc: 0.9112 - acc: 0.8368 - val_loss: 0.7534 - val_auc: 0.0000e+00 - val_acc: 0.5942\n",
            "Epoch 54/70\n",
            "500/500 [==============================] - 3s 6ms/step - loss: 0.3719 - auc: 0.9099 - acc: 0.8339 - val_loss: 0.6539 - val_auc: 0.0000e+00 - val_acc: 0.6854\n",
            "Epoch 55/70\n",
            "500/500 [==============================] - 3s 6ms/step - loss: 0.3681 - auc: 0.9112 - acc: 0.8349 - val_loss: 0.6334 - val_auc: 0.0000e+00 - val_acc: 0.6729\n",
            "Epoch 56/70\n",
            "500/500 [==============================] - 3s 6ms/step - loss: 0.3653 - auc: 0.9126 - acc: 0.8373 - val_loss: 0.5436 - val_auc: 0.0000e+00 - val_acc: 0.7336\n",
            "Epoch 57/70\n",
            "500/500 [==============================] - 3s 6ms/step - loss: 0.3653 - auc: 0.9127 - acc: 0.8370 - val_loss: 0.7456 - val_auc: 0.0000e+00 - val_acc: 0.6223\n",
            "Epoch 58/70\n",
            "500/500 [==============================] - 3s 6ms/step - loss: 0.3709 - auc: 0.9106 - acc: 0.8359 - val_loss: 0.6616 - val_auc: 0.0000e+00 - val_acc: 0.6826\n",
            "Epoch 59/70\n",
            "500/500 [==============================] - 3s 6ms/step - loss: 0.3662 - auc: 0.9125 - acc: 0.8367 - val_loss: 0.5259 - val_auc: 0.0000e+00 - val_acc: 0.7501\n",
            "Epoch 60/70\n",
            "500/500 [==============================] - 3s 6ms/step - loss: 0.3654 - auc: 0.9131 - acc: 0.8385 - val_loss: 0.6933 - val_auc: 0.0000e+00 - val_acc: 0.6494\n",
            "Epoch 61/70\n",
            "500/500 [==============================] - 3s 6ms/step - loss: 0.3624 - auc: 0.9142 - acc: 0.8377 - val_loss: 0.6729 - val_auc: 0.0000e+00 - val_acc: 0.6911\n",
            "Epoch 62/70\n",
            "500/500 [==============================] - 3s 6ms/step - loss: 0.3632 - auc: 0.9146 - acc: 0.8397 - val_loss: 0.6787 - val_auc: 0.0000e+00 - val_acc: 0.6878\n",
            "Epoch 63/70\n",
            "500/500 [==============================] - 3s 6ms/step - loss: 0.3648 - auc: 0.9132 - acc: 0.8374 - val_loss: 0.5868 - val_auc: 0.0000e+00 - val_acc: 0.7088\n",
            "Epoch 64/70\n",
            "500/500 [==============================] - 3s 6ms/step - loss: 0.3668 - auc: 0.9123 - acc: 0.8361 - val_loss: 0.6843 - val_auc: 0.0000e+00 - val_acc: 0.6721\n",
            "Epoch 65/70\n",
            "500/500 [==============================] - 3s 6ms/step - loss: 0.3634 - auc: 0.9140 - acc: 0.8383 - val_loss: 0.7573 - val_auc: 0.0000e+00 - val_acc: 0.6103\n",
            "Epoch 66/70\n",
            "500/500 [==============================] - 3s 6ms/step - loss: 0.3636 - auc: 0.9141 - acc: 0.8397 - val_loss: 0.7179 - val_auc: 0.0000e+00 - val_acc: 0.6446\n",
            "Epoch 67/70\n",
            "500/500 [==============================] - 3s 6ms/step - loss: 0.3631 - auc: 0.9144 - acc: 0.8369 - val_loss: 0.7042 - val_auc: 0.0000e+00 - val_acc: 0.6392\n",
            "Epoch 68/70\n",
            "500/500 [==============================] - 3s 6ms/step - loss: 0.3630 - auc: 0.9143 - acc: 0.8394 - val_loss: 0.6879 - val_auc: 0.0000e+00 - val_acc: 0.6306\n",
            "Epoch 69/70\n",
            "500/500 [==============================] - 3s 6ms/step - loss: 0.3630 - auc: 0.9143 - acc: 0.8383 - val_loss: 0.6690 - val_auc: 0.0000e+00 - val_acc: 0.6933\n",
            "Epoch 70/70\n",
            "500/500 [==============================] - 3s 6ms/step - loss: 0.3592 - auc: 0.9161 - acc: 0.8395 - val_loss: 0.6823 - val_auc: 0.0000e+00 - val_acc: 0.6815\n"
          ],
          "name": "stdout"
        }
      ]
    },
    {
      "cell_type": "code",
      "metadata": {
        "id": "-VP6Ggk-2WOq",
        "colab_type": "code",
        "colab": {}
      },
      "source": [
        ""
      ],
      "execution_count": 0,
      "outputs": []
    }
  ]
}