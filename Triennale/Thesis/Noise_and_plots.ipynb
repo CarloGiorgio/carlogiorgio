{
  "nbformat": 4,
  "nbformat_minor": 0,
  "metadata": {
    "kernelspec": {
      "display_name": "Python 3",
      "language": "python",
      "name": "python3"
    },
    "language_info": {
      "codemirror_mode": {
        "name": "ipython",
        "version": 3
      },
      "file_extension": ".py",
      "mimetype": "text/x-python",
      "name": "python",
      "nbconvert_exporter": "python",
      "pygments_lexer": "ipython3",
      "version": "3.7.6"
    },
    "colab": {
      "name": "Noise_and_plots.ipynb",
      "provenance": [],
      "collapsed_sections": [],
      "toc_visible": true,
      "include_colab_link": true
    }
  },
  "cells": [
    {
      "cell_type": "markdown",
      "metadata": {
        "id": "view-in-github",
        "colab_type": "text"
      },
      "source": [
        "<a href=\"https://colab.research.google.com/github/CarloGiorgio/carlogiorgio/blob/master/Thesis/Noise_and_plots.ipynb\" target=\"_parent\"><img src=\"https://colab.research.google.com/assets/colab-badge.svg\" alt=\"Open In Colab\"/></a>"
      ]
    },
    {
      "cell_type": "code",
      "metadata": {
        "id": "V43GXfbGrKwL",
        "colab_type": "code",
        "colab": {}
      },
      "source": [
        "import numpy as np\n",
        "import pandas as pd\n",
        "import time\n",
        "\n",
        "import matplotlib\n",
        "import matplotlib.pyplot as plt\n",
        "import matplotlib.patches as patches\n",
        "import matplotlib.path as path\n",
        "import matplotlib.animation as animation\n",
        "\n",
        "\n",
        "from numpy.random import rand,exponential"
      ],
      "execution_count": 1,
      "outputs": []
    },
    {
      "cell_type": "code",
      "metadata": {
        "id": "huTkoxuFrKwR",
        "colab_type": "code",
        "colab": {}
      },
      "source": [
        "##Gillespie algorithm No cellular division\n",
        "\n",
        "def gillespie(bm, am, bn, an, steps):\n",
        "    t = 0\n",
        "    m = 0\n",
        "    n = 0\n",
        "    M = [m] \n",
        "    N = [n] \n",
        "    T = [t]\n",
        "    N_m=[m]\n",
        "    M_m=[n]\n",
        "    M_n=[m]\n",
        "    N_n=[n]\n",
        "    for i in range(steps):\n",
        "        a1 = bm\n",
        "        a2 = am*m\n",
        "        a3 = bn*m\n",
        "        a4 = an*n\n",
        "        A = a1+a2+a3+a4\n",
        "        t += exponential(1/A)\n",
        "        r2 = rand()\n",
        "\n",
        "        \n",
        "        \n",
        "        if r2 < a1/A:\n",
        "            m = m+1\n",
        "        elif r2<(a1+a2)/A:\n",
        "            m=m-1\n",
        "        elif r2<(a1+a2+a3)/A:\n",
        "            n=n+1\n",
        "        else:\n",
        "            n=n-1\n",
        "                \n",
        "        T+=[t]\n",
        "        M+=[m]\n",
        "        N+=[n]\n",
        "        if i >20:\n",
        "            M_m.append(np.mean(M))\n",
        "            N_m.append(np.mean(N))\n",
        "            M_n.append(np.var(M))\n",
        "            N_n.append(np.var(N))\n",
        "    N=np.asarray(N)\n",
        "    M=np.asarray(M)\n",
        "    M_m=np.asarray(M_m)\n",
        "    M_n=np.asarray(M_n)\n",
        "    N_m=np.asarray(N_m)\n",
        "    N_n=np.asarray(N_n)\n",
        "    return M,N,M_n,N_n,T"
      ],
      "execution_count": 2,
      "outputs": []
    },
    {
      "cell_type": "code",
      "metadata": {
        "id": "7hDEhx_WrKwV",
        "colab_type": "code",
        "colab": {}
      },
      "source": [
        "am = 1/1.5\n",
        "mbar = 0.037\n",
        "bm = mbar*am\n",
        "an = 1/60\n",
        "bn = 2.67"
      ],
      "execution_count": 4,
      "outputs": []
    },
    {
      "cell_type": "code",
      "metadata": {
        "id": "GzTPocw4rKwY",
        "colab_type": "code",
        "colab": {}
      },
      "source": [
        "steps=2000\n",
        "M,N,M_n,N_n,T=gillespie(bm, am, bn, an, steps)"
      ],
      "execution_count": 5,
      "outputs": []
    },
    {
      "cell_type": "code",
      "metadata": {
        "id": "KvQ_EC_arKwb",
        "colab_type": "code",
        "colab": {
          "base_uri": "https://localhost:8080/",
          "height": 82
        },
        "outputId": "cf7ee184-e0ba-416c-a582-21738b789454"
      },
      "source": [
        "print('M mean',np.sum(M[:-1]*np.diff(T[:])/T[-1]))\n",
        "print('N mean',np.sum(N[:-1]*np.diff(T[:])/T[-1]))\n",
        "print('N noise',(np.sum(N[:-1]*N[:-1]*np.diff(T[:]))/T[-1]-(np.sum(N[:-1]*np.diff(T[:])/T[-1]))**2)/\n",
        "      ((np.sum(N[:-1]*np.diff(T[:])/T[-1]))**2))\n",
        "print('M noise',(np.sum(M[:-1]*M[:-1]*np.diff(T[:]))/T[-1]-(np.sum(M[:-1]*np.diff(T[:])/T[-1]))**2)/\n",
        "      ((np.sum(M[:-1]*np.diff(T[:])/T[-1]))**2))"
      ],
      "execution_count": 6,
      "outputs": [
        {
          "output_type": "stream",
          "text": [
            "M mean 0.038294742568737015\n",
            "N mean 5.8111041875703755\n",
            "N noise 0.8190921954295358\n",
            "M noise 26.44883627298379\n"
          ],
          "name": "stdout"
        }
      ]
    },
    {
      "cell_type": "code",
      "metadata": {
        "id": "fQporKgFrKwf",
        "colab_type": "code",
        "colab": {
          "base_uri": "https://localhost:8080/",
          "height": 280
        },
        "outputId": "6ef1870a-95fa-47c9-9fe5-917d31fa7972"
      },
      "source": [
        "fig,axs=plt.subplots(1,2)\n",
        "axs[0].plot(T,M)\n",
        "axs[1].plot(T,N)"
      ],
      "execution_count": 7,
      "outputs": [
        {
          "output_type": "execute_result",
          "data": {
            "text/plain": [
              "[<matplotlib.lines.Line2D at 0x7fde3cc8a588>]"
            ]
          },
          "metadata": {
            "tags": []
          },
          "execution_count": 7
        },
        {
          "output_type": "display_data",
          "data": {
            "image/png": "[encoded data removed]",
            "text/plain": [
              "<Figure size 432x288 with 2 Axes>"
            ]
          },
          "metadata": {
            "tags": [],
            "needs_background": "light"
          }
        }
      ]
    },
    {
      "cell_type": "code",
      "metadata": {
        "id": "D3JUkTI-rKwi",
        "colab_type": "code",
        "colab": {
          "base_uri": "https://localhost:8080/",
          "height": 312
        },
        "outputId": "a3c21305-87c3-4f4c-c289-23510e46bda3"
      },
      "source": [
        "fig,axs=plt.subplots(1,2)\n",
        "axs[0].hist(M)\n",
        "axs[1].hist(N)"
      ],
      "execution_count": 8,
      "outputs": [
        {
          "output_type": "execute_result",
          "data": {
            "text/plain": [
              "(array([318., 432., 459., 279., 242., 102.,  87.,  41.,  31.,  10.]),\n",
              " array([ 0. ,  3.5,  7. , 10.5, 14. , 17.5, 21. , 24.5, 28. , 31.5, 35. ]),\n",
              " <a list of 10 Patch objects>)"
            ]
          },
          "metadata": {
            "tags": []
          },
          "execution_count": 8
        },
        {
          "output_type": "display_data",
          "data": {
            "image/png": "[encoded data removed]",
            "text/plain": [
              "<Figure size 432x288 with 2 Axes>"
            ]
          },
          "metadata": {
            "tags": [],
            "needs_background": "light"
          }
        }
      ]
    },
    {
      "cell_type": "code",
      "metadata": {
        "id": "h0vOivrbrKwq",
        "colab_type": "code",
        "colab": {}
      },
      "source": [
        "\n",
        "fig, ax = plt.subplots()\n",
        "\n",
        "Writer = animation.writers['ffmpeg']\n",
        "writer = Writer(fps=15, metadata=dict(artist='Me'), bitrate=1800)\n",
        "\n",
        "# histogram our data with numpy\n",
        "data=N[:140]\n",
        "n, bins = np.histogram(data, 15,density=True)\n",
        "\n",
        "# get the corners of the rectangles for the histogram\n",
        "left = np.array(bins[:-1])\n",
        "right = np.array(bins[1:])\n",
        "bottom = np.zeros(len(left))\n",
        "top = bottom + n\n",
        "nrects = len(left)\n",
        "\n",
        "# here comes the tricky part -- we have to set up the vertex and path\n",
        "# codes arrays using moveto, lineto and closepoly\n",
        "\n",
        "# for each rect: 1 for the MOVETO, 3 for the LINETO, 1 for the\n",
        "# CLOSEPOLY; the vert for the closepoly is ignored but we still need\n",
        "# it to keep the codes aligned with the vertices\n",
        "nverts = nrects*(1 + 3 + 1)\n",
        "verts = np.zeros((nverts, 2))\n",
        "codes = np.ones(nverts, int) * path.Path.LINETO\n",
        "codes[0::5] = path.Path.MOVETO\n",
        "codes[4::5] = path.Path.CLOSEPOLY\n",
        "verts[0::5, 0] = left\n",
        "verts[0::5, 1] = bottom\n",
        "verts[1::5, 0] = left\n",
        "verts[1::5, 1] = top\n",
        "verts[2::5, 0] = right\n",
        "verts[2::5, 1] = top\n",
        "verts[3::5, 0] = right\n",
        "verts[3::5, 1] = bottom\n",
        "\n",
        "barpath = path.Path(verts, codes)\n",
        "patch = patches.PathPatch(\n",
        "    barpath, facecolor='blue', edgecolor='black', alpha=0.5)\n",
        "ax.add_patch(patch)\n",
        "\n",
        "ax.set_xlim(left[0], right[-1])\n",
        "ax.set_ylim(bottom.min(), top.max())\n",
        "ax.set_xlabel(\"Proteins'number\")\n",
        "ax.set_ylabel(\"Occurrences\")\n",
        "\n",
        "def animate(i):\n",
        "    # simulate new data coming in\n",
        "    data = N[:i*20]\n",
        "    n, bins = np.histogram(data, 15,density=True)\n",
        "    top = bottom + n\n",
        "    verts[1::5, 1] = top\n",
        "    verts[2::5, 1] = top\n",
        "    plt.title('T=%d i=%d'%(T[i*20],i*20))\n",
        "    return [patch, ]\n",
        "\n",
        "ani = animation.FuncAnimation(fig, animate, 100, repeat=False, blit=False)\n",
        "ani.save('hist.mp4',writer=writer)\n",
        "plt.show()"
      ],
      "execution_count": null,
      "outputs": []
    },
    {
      "cell_type": "code",
      "metadata": {
        "id": "FLTFMFlPtBpe",
        "colab_type": "code",
        "colab": {}
      },
      "source": [
        "def mean_time(M,T):\n",
        "  return (np.sum(M[:-1]*np.diff(T[:]))/T[-1])\n",
        "\n",
        "def noise(M,T):\n",
        "  return (mean_time(M**2,T)-mean_time(M,T)**2)/(mean_time(M,T)**2)"
      ],
      "execution_count": 36,
      "outputs": []
    },
    {
      "cell_type": "code",
      "metadata": {
        "id": "xLvF0LNluept",
        "colab_type": "code",
        "colab": {}
      },
      "source": [
        "def gillespie_noise(bm, am, bn, an, steps):\n",
        "    t = 0\n",
        "    m = 0\n",
        "    n = 0 \n",
        "    N = [] \n",
        "    T = []\n",
        "    for i in range(steps):\n",
        "        a1 = bm\n",
        "        a2 = am*m\n",
        "        a3 = bn*m\n",
        "        a4 = an*n\n",
        "        A = a1+a2+a3+a4\n",
        "        t += exponential(1/A)\n",
        "        r2 = rand()\n",
        "\n",
        "        if r2 < a1/A:\n",
        "            m = m+1\n",
        "        elif r2<(a1+a2)/A:\n",
        "            m=m-1\n",
        "        elif r2<(a1+a2+a3)/A:\n",
        "            n=n+1\n",
        "        else:\n",
        "            n=n-1\n",
        "        if i>500:\n",
        "          T+=[t]\n",
        "          N+=[n]\n",
        "        \n",
        "    N=np.asarray(N)\n",
        "    T=np.asarray(T)\n",
        "    return mean_time(N,T),noise(N,T)"
      ],
      "execution_count": 38,
      "outputs": []
    },
    {
      "cell_type": "code",
      "metadata": {
        "id": "RnOCGVnPvKgG",
        "colab_type": "code",
        "colab": {}
      },
      "source": [
        "N_mean=np.zeros(100)\n",
        "N_noise=np.zeros(100)\n",
        "a=np.logspace(1,2,100)\n",
        "for (i,f) in enumerate(a):\n",
        "  N_mean[i],N_noise[i]=gillespie_noise(bm,am,bn*f,an*f,1000)"
      ],
      "execution_count": 45,
      "outputs": []
    },
    {
      "cell_type": "code",
      "metadata": {
        "id": "nMEaCOX6xtDa",
        "colab_type": "code",
        "colab": {
          "base_uri": "https://localhost:8080/",
          "height": 297
        },
        "outputId": "d0ba84e9-67ee-4fb1-ca96-4847c4d717c8"
      },
      "source": [
        "fig,ax=plt.subplots()\n",
        "plt.loglog()\n",
        "ax.plot(N_mean,N_noise,'.')\n",
        "ax.set(xlabel='<P>',ylabel=r'$\\eta$',title=\"Noise versus proteins' abbundance\")\n",
        "#fig.savefig('noise_abbundance.pdf')"
      ],
      "execution_count": 49,
      "outputs": [
        {
          "output_type": "display_data",
          "data": {
            "image/png": "[encoded data removed]",
            "text/plain": [
              "<Figure size 432x288 with 1 Axes>"
            ]
          },
          "metadata": {
            "tags": [],
            "needs_background": "light"
          }
        }
      ]
    }
  ]
}